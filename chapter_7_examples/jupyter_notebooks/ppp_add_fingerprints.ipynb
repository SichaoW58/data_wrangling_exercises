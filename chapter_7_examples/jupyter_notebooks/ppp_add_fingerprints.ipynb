{
 "cells": [
  {
   "cell_type": "code",
   "execution_count": null,
   "metadata": {},
   "outputs": [],
   "source": [
    "# Quick script for adding a \"fingerprint\" column to our loan data, which will\n",
    "# help us confirm/correct for any typos or inconsistencies in, e.g. bank names\n",
    "\n",
    "# import the csv library\n",
    "import csv\n",
    "\n",
    "# importing the `fingerprints` library\n",
    "import fingerprints"
   ]
  },
  {
   "cell_type": "code",
   "execution_count": null,
   "metadata": {},
   "outputs": [],
   "source": [
    "# # UNCOMMENT BELOW TO USE WITH GOOGLE COLAB\n",
    "# # Import PyDrive and associated libraries.\n",
    "# # This only needs to be done once per notebook.\n",
    "# # Documentation found here: https://colab.research.google.com/notebooks/io.ipynb#scrollTo=7taylj9wpsA2\n",
    "# from pydrive.auth import GoogleAuth\n",
    "# from pydrive.drive import GoogleDrive\n",
    "# from google.colab import auth\n",
    "# from oauth2client.client import GoogleCredentials\n",
    "\n",
    "# # Authenticate and create the PyDrive client.\n",
    "# # This only needs to be done once per notebook.\n",
    "# auth.authenticate_user()\n",
    "# gauth = GoogleAuth()\n",
    "# gauth.credentials = GoogleCredentials.get_application_default()\n",
    "# drive = GoogleDrive(gauth)"
   ]
  },
  {
   "cell_type": "code",
   "execution_count": null,
   "metadata": {},
   "outputs": [],
   "source": [
    "# # UNCOMMENT BELOW TO USE WITH GOOGLE COLAB\n",
    "# # Link to data file stored in Drive: https://drive.google.com/file/d/1ZTta7T_oOL5-1YEPBGRDTcSEY-qh6LBE/view?usp=sharing\n",
    "# file_id = '1ZTta7T_oOL5-1YEPBGRDTcSEY-qh6LBE' # notice where this string comes from in link above\n",
    "\n",
    "# imported_file = drive.CreateFile({'id': file_id}) # creating an accessible copy of the shared data file\n",
    "# print(imported_file['title'])  # it should print the title of desired file\n",
    "# imported_file.GetContentFile(imported_file['title']) # refer to it in this notebook by the same name as it has in Drive"
   ]
  },
  {
   "cell_type": "code",
   "execution_count": null,
   "metadata": {},
   "outputs": [],
   "source": [
    "# read the recent data sample into a variable\n",
    "ppp_data = open('public_150k_plus_recent.csv','r')"
   ]
  },
  {
   "cell_type": "code",
   "execution_count": null,
   "metadata": {},
   "outputs": [],
   "source": [
    "# the DictReader function has added useful information to our data,\n",
    "# like a label that shows us all the values in the first or \"header\" row\n",
    "ppp_data_reader = csv.DictReader(ppp_data)"
   ]
  },
  {
   "cell_type": "code",
   "execution_count": null,
   "metadata": {},
   "outputs": [],
   "source": [
    "# create an output file to write our modified data set to\n",
    "augmented_ppp_data = open('public_150k_plus_fingerprints.csv','w')\n",
    "\n",
    "# create a \"writer\" so that we can output whole rows at once\n",
    "augmented_data_writer = csv.writer(augmented_ppp_data)\n",
    "\n",
    "# because we're adding a column, we need to create a new header row as well\n",
    "header_row = []"
   ]
  },
  {
   "cell_type": "code",
   "execution_count": null,
   "metadata": {},
   "outputs": [],
   "source": [
    "# for every column header\n",
    "for item in ppp_data_reader.fieldnames:\n",
    "\n",
    "    # append the existing column header\n",
    "    header_row.append(item)\n",
    "\n",
    "    # if we're at 'OriginatingLender'\n",
    "    if item == 'OriginatingLender':\n",
    "\n",
    "        # it's time to add a new one!\n",
    "        header_row.append('OriginatingLenderFingerprint')\n",
    "\n",
    "# write the completed header row to the output file\n",
    "augmented_data_writer.writerow(header_row)"
   ]
  },
  {
   "cell_type": "code",
   "execution_count": null,
   "metadata": {},
   "outputs": [],
   "source": [
    "# iterate through row in the data\n",
    "for row in ppp_data_reader:\n",
    "\n",
    "    # adding a column means we need to build the new row of data\n",
    "    # item by item, just as we did with the header row\n",
    "    new_row = []\n",
    "\n",
    "    # for each column of data in the *original* data set\n",
    "    for column_name in ppp_data_reader.fieldnames:\n",
    "\n",
    "        # first, append this row's value for that column\n",
    "        new_row.append(row[column_name])\n",
    "\n",
    "        # when we get to the 'OriginatingLender' column, it's time\n",
    "        # to add our new \"fingerprint\" value\n",
    "        if column_name == 'OriginatingLender':\n",
    "\n",
    "            # our fingerprint will consist of the generated fingerprint PLUS\n",
    "            # the OriginatingLenderLocationID\n",
    "            the_fingerprint = fingerprints.generate(row[column_name]) +\" \"+ row['OriginatingLenderLocationID']\n",
    "            new_row.append(the_fingerprint)\n",
    "\n",
    "    # once the whole row is complete, write it to our output file\n",
    "    augmented_data_writer.writerow(new_row)\n",
    "\n",
    "# close both files\n",
    "augmented_ppp_data.close()\n",
    "ppp_data.close()"
   ]
  },
  {
   "cell_type": "code",
   "execution_count": null,
   "metadata": {},
   "outputs": [],
   "source": [
    "# # UNCOMMENT BELOW TO USE WITH GOOGLE COLAB\n",
    "# from google.colab import files\n",
    "# files.download('public_150k_plus_fingerprints.csv')"
   ]
  }
 ],
 "metadata": {
  "kernelspec": {
   "display_name": "Python 3",
   "language": "python",
   "name": "python3"
  },
  "language_info": {
   "codemirror_mode": {
    "name": "ipython",
    "version": 3
   },
   "file_extension": ".py",
   "mimetype": "text/x-python",
   "name": "python",
   "nbconvert_exporter": "python",
   "pygments_lexer": "ipython3",
   "version": "3.8.3"
  }
 },
 "nbformat": 4,
 "nbformat_minor": 4
}
