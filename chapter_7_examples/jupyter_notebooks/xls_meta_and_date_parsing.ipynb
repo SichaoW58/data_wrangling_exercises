{
 "cells": [
  {
   "cell_type": "code",
   "execution_count": null,
   "metadata": {},
   "outputs": [],
   "source": [
    "# Converting data in an .xls file with Python to csv + metadata file, with\n",
    "# functional date values using the \"xrld\" library.\n",
    "# First, pip install the xlrd library:\n",
    "# https://pypi.org/project/xlrd/2.0.1/\n",
    "\n",
    "# then, import the \"xlrd\" library\n",
    "import xlrd\n",
    "\n",
    "# import the csv library\n",
    "import csv\n",
    "\n",
    "# needed to test if a given value is *some* type of number\n",
    "from numbers import Number\n",
    "\n",
    "# for parsing/formatting our newly interpreted Excel dates\n",
    "from datetime import datetime"
   ]
  },
  {
   "cell_type": "code",
   "execution_count": null,
   "metadata": {},
   "outputs": [],
   "source": [
    "# # UNCOMMENT BELOW TO USE WITH GOOGLE COLAB\n",
    "# from google.colab import files"
   ]
  },
  {
   "cell_type": "code",
   "execution_count": null,
   "metadata": {},
   "outputs": [],
   "source": [
    "# # UNCOMMENT BELOW TO USE WITH GOOGLE COLAB\n",
    "# # Import PyDrive and associated libraries.\n",
    "# # This only needs to be done once per notebook.\n",
    "# # Documentation found here: https://colab.research.google.com/notebooks/io.ipynb#scrollTo=7taylj9wpsA2\n",
    "# from pydrive.auth import GoogleAuth\n",
    "# from pydrive.drive import GoogleDrive\n",
    "# from google.colab import auth\n",
    "# from oauth2client.client import GoogleCredentials\n",
    "\n",
    "# # Authenticate and create the PyDrive client.\n",
    "# # This only needs to be done once per notebook.\n",
    "# auth.authenticate_user()\n",
    "# gauth = GoogleAuth()\n",
    "# gauth.credentials = GoogleCredentials.get_application_default()\n",
    "# drive = GoogleDrive(gauth)"
   ]
  },
  {
   "cell_type": "code",
   "execution_count": null,
   "metadata": {},
   "outputs": [],
   "source": [
    "# # UNCOMMENT BELOW TO USE WITH GOOGLE COLAB\n",
    "# # Link to data file stored in Drive: https://drive.google.com/file/d/1q9xm5ULkoT3BGPqhGGJ4TRRm7nee8KHS/view?usp=sharing\n",
    "# file_id = '1q9xm5ULkoT3BGPqhGGJ4TRRm7nee8KHS' # notice where this string comes from in link above\n",
    "\n",
    "# imported_file = drive.CreateFile({'id': file_id}) # creating an accessible copy of the shared data file\n",
    "# print(imported_file['title'])  # it should print the title of desired file\n",
    "# imported_file.GetContentFile(imported_file['title']) # refer to it in this notebook by the same name as it has in Drive"
   ]
  },
  {
   "cell_type": "code",
   "execution_count": null,
   "metadata": {},
   "outputs": [],
   "source": [
    "# start by passing our source filename as an ingredient to the xlrd library's\n",
    "# open_workbook \"recipe\" and store the result in a variable called\n",
    "# `source_workbook`.\n",
    "source_workbook = xlrd.open_workbook(\"fredgraph.xls\")"
   ]
  },
  {
   "cell_type": "code",
   "execution_count": null,
   "metadata": {},
   "outputs": [],
   "source": [
    "# we'll probably only need one metadata file per workbook, though we could\n",
    "# easily move this inside the loop and create a per-sheet metadata file\n",
    "# if necessary\n",
    "source_workbook_metadata = open(\"fredgraph_metadata.txt\",\"w\")"
   ]
  },
  {
   "cell_type": "code",
   "execution_count": null,
   "metadata": {},
   "outputs": [],
   "source": [
    "# even though our example workbook only includes one worksheet, the\n",
    "# `open_workbook` recipe has generated a list of sheet names that we can loop\n",
    "# through. In the future, we could use this to create one  `.csv`file per sheet\n",
    "for sheet_name in source_workbook.sheet_names():\n",
    "\n",
    "    # we'll create a variable that points to the current worksheet by\n",
    "    # passing the current value of `sheet_name` to the `sheet_by_name` recipe\n",
    "    current_sheet = source_workbook.sheet_by_name(sheet_name)\n",
    "\n",
    "    # for each sheet in our workbook, we'll create a separate `.csv` file\n",
    "    # for clarity, we'll name it \"xls_\"+sheet_name\n",
    "    output_file = open(\"xls_\"+sheet_name+\"_dates.csv\",\"w\")\n",
    "\n",
    "    # there is a \"writer\" recipe that lets us easily write `.csv`-formatted rows\n",
    "    output_writer = csv.writer(output_file)\n",
    "\n",
    "    # we'll use a boolean (True/False) \"flag\" variable so that we know when\n",
    "    # to start writing to our \"data\" file instead of our \"metadata\" file\n",
    "    is_table_data = False\n",
    "\n",
    "    # now, we need to loop through every row in our sheet\n",
    "    for row_num, row in enumerate(current_sheet.get_rows()):\n",
    "\n",
    "        # pulling out the value in the first column of the current row\n",
    "        first_entry = current_sheet.row_values(row_num)[0]\n",
    "\n",
    "        # if we've hit the header row of our data table\n",
    "        if first_entry == 'observation_date':\n",
    "            # it's time to switch our \"flag\" value to \"True\"\n",
    "            is_table_data = True\n",
    "\n",
    "        # if `is_table_data` is True\n",
    "        if is_table_data:\n",
    "\n",
    "            # extract the table-type data values into separate variables\n",
    "            the_date_num = current_sheet.row_values(row_num)[0]\n",
    "            U6_value = current_sheet.row_values(row_num)[1]\n",
    "            # create a new row object with each of the values\n",
    "            new_row = [the_date_num, U6_value]\n",
    "\n",
    "            # if the value is a number, then the current row is *not*\n",
    "            # the header row, so transform the date\n",
    "            if isinstance(the_date_num, Number):\n",
    "\n",
    "                # if it is, use the xlrd library's `xldate_as_datetime` recipe\n",
    "                # with the value + the workbook's datemode to generate a\n",
    "                # Python datetime object\n",
    "                the_date_num = xlrd.xldate.xldate_as_datetime(the_date_num, source_workbook.datemode)\n",
    "\n",
    "                # replace the first value in the new row with the_date_num,\n",
    "                # formatted to MM/DD/YYYY using the `strftime()` recipe)\n",
    "                new_row[0] = the_date_num.strftime('%m/%d/%Y')\n",
    "\n",
    "\n",
    "            # write this new row to the data output file\n",
    "            output_writer.writerow(new_row)\n",
    "\n",
    "        # otherwise, this row must be metadata\n",
    "        else:\n",
    "            # since we'd like our metadata file to be nicely formatted, we\n",
    "            # need to loop through the individual cells of each metadata row\n",
    "            for item in current_sheet.row(row_num):\n",
    "\n",
    "                    # write the value of the cell\n",
    "                    source_workbook_metadata.write(item.value)\n",
    "\n",
    "                    # separate it from the next cell with a tab\n",
    "                    source_workbook_metadata.write('\\t')\n",
    "\n",
    "            # at the end of each line of metadata, add a newline\n",
    "            source_workbook_metadata.write('\\n')\n",
    "\n",
    "    # just for good measure, let's close our output files\n",
    "    output_file.close()\n",
    "    source_workbook_metadata.close()\n",
    "    \n",
    "#     # UNCOMMENT BELOW TO USE WITH GOOGLE COLAB\n",
    "\n",
    "#     files.download(\"xls_\"+sheet_name+\"_dates.csv\")\n",
    "#     files.download(\"fredgraph_metadata.txt\")"
   ]
  }
 ],
 "metadata": {
  "kernelspec": {
   "display_name": "Python 3",
   "language": "python",
   "name": "python3"
  },
  "language_info": {
   "codemirror_mode": {
    "name": "ipython",
    "version": 3
   },
   "file_extension": ".py",
   "mimetype": "text/x-python",
   "name": "python",
   "nbconvert_exporter": "python",
   "pygments_lexer": "ipython3",
   "version": "3.8.3"
  }
 },
 "nbformat": 4,
 "nbformat_minor": 4
}
