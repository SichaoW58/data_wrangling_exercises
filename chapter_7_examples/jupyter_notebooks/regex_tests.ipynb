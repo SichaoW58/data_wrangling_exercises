{
 "cells": [
  {
   "cell_type": "code",
   "execution_count": null,
   "metadata": {},
   "outputs": [],
   "source": [
    "# The goal of this script is to try out how a couple of regular expressions\n",
    "# fare with some sample test data. An interactive version of this can also\n",
    "# be done in a Jupyter notebook, of course, or online at:\n",
    "# https://www.w3schools.com/python/trypython.asp?filename=demo_regex\n",
    "\n",
    "# import the regular expression library\n",
    "import re"
   ]
  },
  {
   "cell_type": "code",
   "execution_count": null,
   "metadata": {},
   "outputs": [],
   "source": [
    "# using the `re.compile()` method is a helpful way of keeping a reference to\n",
    "# our various regular expressions\n",
    "bookend_regex = re.compile(\"\\s0[7-9]:\")"
   ]
  },
  {
   "cell_type": "code",
   "execution_count": null,
   "metadata": {},
   "outputs": [],
   "source": [
    "# always try to be descriptive with the variable names\n",
    "one_sided_regex = re.compile(\"0[7-9]:\")"
   ]
  },
  {
   "cell_type": "code",
   "execution_count": null,
   "metadata": {},
   "outputs": [],
   "source": [
    "# this example should *fail*\n",
    "sample1 = \"2020-09-01 00:00:01.0430\""
   ]
  },
  {
   "cell_type": "code",
   "execution_count": null,
   "metadata": {},
   "outputs": [],
   "source": [
    "# this example should *match*\n",
    "sample2 = \"2020-09-01 09:04:23.7930\""
   ]
  },
  {
   "cell_type": "code",
   "execution_count": null,
   "metadata": {},
   "outputs": [],
   "source": [
    "# this example should *fail*\n",
    "sample3 = \"2020-09-01 10:07:02.0510\""
   ]
  },
  {
   "cell_type": "code",
   "execution_count": null,
   "metadata": {},
   "outputs": [],
   "source": [
    "# let's see what happens!\n",
    "print(\"bookend_regex:\")\n",
    "print(bookend_regex.search(sample1))\n",
    "print(bookend_regex.search(sample2))\n",
    "print(bookend_regex.search(sample3))"
   ]
  },
  {
   "cell_type": "code",
   "execution_count": null,
   "metadata": {},
   "outputs": [],
   "source": [
    "print(\"one_sided_regex:\")\n",
    "print(one_sided_regex.search(sample1))\n",
    "print(one_sided_regex.search(sample2))\n",
    "print(one_sided_regex.search(sample3))"
   ]
  },
  {
   "cell_type": "code",
   "execution_count": null,
   "metadata": {},
   "outputs": [],
   "source": [
    "plus_ten = re.compile(\"\\s[01][0789]:\")\n",
    "\n",
    "print(\"plus_ten\")\n",
    "print(plus_ten.search(\"2020-09-01 18:09:11.0980\"))"
   ]
  }
 ],
 "metadata": {
  "kernelspec": {
   "display_name": "Python 3",
   "language": "python",
   "name": "python3"
  },
  "language_info": {
   "codemirror_mode": {
    "name": "ipython",
    "version": 3
   },
   "file_extension": ".py",
   "mimetype": "text/x-python",
   "name": "python",
   "nbconvert_exporter": "python",
   "pygments_lexer": "ipython3",
   "version": "3.8.3"
  }
 },
 "nbformat": 4,
 "nbformat_minor": 4
}
