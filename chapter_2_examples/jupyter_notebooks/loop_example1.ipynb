{
 "cells": [
  {
   "cell_type": "code",
   "execution_count": 1,
   "metadata": {},
   "outputs": [
    {
     "name": "stdout",
     "output_type": "stream",
     "text": [
      "291\n"
     ]
    }
   ],
   "source": [
    "# create a list that contains the number of pages in each chapter\n",
    "# of the print version of this book\n",
    "\n",
    "page_counts = [28, 32, 44, 23, 56, 32, 12, 34, 30]\n",
    "\n",
    "# create a variable to keep track of the total number of pages,\n",
    "# starting its value at 0\n",
    "total_pages = 0\n",
    "\n",
    "# for every item in the list, perform some action - in this case,\n",
    "# add the number to our \"total_pages\" variable\n",
    "for a_number in page_counts:\n",
    "    total_pages = total_pages + a_number\n",
    "\n",
    "print(total_pages)"
   ]
  }
 ],
 "metadata": {
  "kernelspec": {
   "display_name": "Python 3",
   "language": "python",
   "name": "python3"
  },
  "language_info": {
   "codemirror_mode": {
    "name": "ipython",
    "version": 3
   },
   "file_extension": ".py",
   "mimetype": "text/x-python",
   "name": "python",
   "nbconvert_exporter": "python",
   "pygments_lexer": "ipython3",
   "version": "3.8.3"
  }
 },
 "nbformat": 4,
 "nbformat_minor": 4
}
