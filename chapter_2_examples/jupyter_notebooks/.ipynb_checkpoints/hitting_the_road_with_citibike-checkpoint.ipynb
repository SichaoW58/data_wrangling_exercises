{
 "cells": [
  {
   "cell_type": "code",
   "execution_count": 2,
   "metadata": {},
   "outputs": [],
   "source": [
    "# Question: How many Citi Bike rides each day are taken by subscribers versus \"customers\"?\n",
    "\n",
    "# Answer: Choose a single day of rides to examine. The data set located here: XXXXX was generated from the original system data found here: https://s3.amazonaws.com/tripdata/index.html -> 202009-citibike-tripdata.csv.zip\n",
    "\n",
    "# Program Outline:\n",
    "# 1. Read in the data file: 202009CtibikeTripdataExample.csv\n",
    "# 2. Create variables to count: subscribers, customers and other\n",
    "# 3. For each row in the file:\n",
    "#       a. If the \"User Type\" is \"Subscriber\" add 1 to \"subscriber_count\" variable\n",
    "#       b. If the \"User Type\" is \"Customer\" add 1 to \"customer_count\" variable\n",
    "#       c. Otherwise, add 1 to the \"other\" variable\n",
    "# 4. Print out my results"
   ]
  },
  {
   "cell_type": "code",
   "execution_count": 4,
   "metadata": {},
   "outputs": [
    {
     "name": "stdout",
     "output_type": "stream",
     "text": [
      "['tripduration', 'starttime', 'stoptime', 'start station id', 'start station name', 'start station latitude', 'start station longitude', 'end station id', 'end station name', 'end station latitude', 'end station longitude', 'bikeid', 'usertype', 'birth year', 'gender']\n"
     ]
    }
   ],
   "source": [
    "# import the \"csv\" library, which will give us lots of handy code recipes\n",
    "# for dealing with our data file\n",
    "import csv\n",
    "\n",
    "# open is a built-in function that takes a file name\n",
    "# (the file should be in the same folder as our Python script or notebook) _and_\n",
    "# a \"mode\": \"r\" for \"read\" or \"w\" for \"write\"\n",
    "source_file = open(\"202009CitibikeTripdataExample.csv\",\"r\")\n",
    "\n",
    "# pass our source_file as an ingredient to the the csv library's DictReader \"recipe\"\n",
    "# and store the result in a variable called `citibike_reader`\n",
    "citibike_reader = csv.DictReader(source_file)\n",
    "\n",
    "# the DictReader function has added useful information to our original data file,\n",
    "# like a label that shows us all the values in the first or \"header\" row\n",
    "print(citibike_reader.fieldnames)\n",
    "\n",
    "# based on the above, the _precise_ name of the \"User Type\" column is `usertype`"
   ]
  },
  {
   "cell_type": "code",
   "execution_count": 5,
   "metadata": {},
   "outputs": [],
   "source": [
    "# now we'll create our three variables to hold the count of each type of Citi Bike\n",
    "# user, beginning the count for each at zero\n",
    "subscriber_count = 0\n",
    "customer_count = 0\n",
    "other_user_count = 0"
   ]
  },
  {
   "cell_type": "code",
   "execution_count": 7,
   "metadata": {},
   "outputs": [],
   "source": [
    "# we want to make sure our for loop is working with the data that's already\n",
    "# been transformed by our DictReader recipe\n",
    "# so for Step 3, we'll write a `for...in` loop using our `citibike_reader` variable\n",
    "for a_row in citibike_reader:\n",
    "    # in order for my `if` statements to be \"inside\" my loop,\n",
    "    # they have to be indented\n",
    "    \n",
    "    # Step 3a: if the value in the `usertype` column of\n",
    "    # the current row is \"Subscriber\"\n",
    "    if a_row[\"usertype\"] == \"Subscriber\":\n",
    "        # indenting one more time so that this next line only happens if\n",
    "        # `usertype` actually _is_ \"Subscriber\"\n",
    "        subscriber_count = subscriber_count +1\n",
    "    # Step 3b:because we need to use \"else\" here, but also need\n",
    "    # another \"if\" statement, we're using the keyword \"elif\", \n",
    "    # which is short for \"else if\" \n",
    "    elif a_row[\"usertype\"] == \"Customer\":\n",
    "        # indenting again so that this next line only happens if \n",
    "        # `usertype` actually _is_ \"Customer\"\n",
    "        customer_count = customer_count + 1\n",
    "    #Step 3c: in this case, we're not checking for anything, \n",
    "    # we just know that the `usertype` value is neither\n",
    "    # \"Subscriber\" nor \"Customer\", so we'll add one to our catch-all\n",
    "    # \"other\" category\n",
    "    else:\n",
    "        other_user_count = other_user_count + 1"
   ]
  },
  {
   "cell_type": "code",
   "execution_count": 8,
   "metadata": {},
   "outputs": [
    {
     "name": "stdout",
     "output_type": "stream",
     "text": [
      "Number of subscribers:\n",
      "58960\n",
      "Number of customers:\n",
      "17713\n",
      "Number of 'other' users:\n",
      "0\n"
     ]
    }
   ],
   "source": [
    "# Step 4: Print out our results, being sure to include \"labels\" in the process:\n",
    "# Note that this _isn't_ indented, because we only want to print these values\n",
    "# once our `for` loop has finished going through the entire data set\n",
    "print(\"Number of subscribers:\")\n",
    "print(subscriber_count)\n",
    "print(\"Number of customers:\")\n",
    "print(customer_count)\n",
    "print(\"Number of 'other' users:\")\n",
    "print(other_user_count)"
   ]
  }
 ],
 "metadata": {
  "kernelspec": {
   "display_name": "Python 3",
   "language": "python",
   "name": "python3"
  },
  "language_info": {
   "codemirror_mode": {
    "name": "ipython",
    "version": 3
   },
   "file_extension": ".py",
   "mimetype": "text/x-python",
   "name": "python",
   "nbconvert_exporter": "python",
   "pygments_lexer": "ipython3",
   "version": "3.8.3"
  }
 },
 "nbformat": 4,
 "nbformat_minor": 4
}
