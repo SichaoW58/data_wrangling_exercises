{
 "cells": [
  {
   "cell_type": "markdown",
   "metadata": {},
   "source": [
    "## About Jupyter Notebooks\n",
    "\n",
    "Jupyter Notebooks have two relevant types of \"cells\": \n",
    "\n",
    "This is a \"markdown\" cell, which is useful for adding lightly-formatted context and documentation to your notebook. You can learn more about markdown here: https://www.markdownguide.org/cheat-sheet/\n",
    "\n",
    "The cells below are code cells. When you hit the \"play\" button next to a code cell, it essentially does a combination of two things:\n",
    "\n",
    "1. Runs the code\n",
    "2. Prints out the \"results\"\n",
    "\n",
    "This means that Jupyter Notebooks typically contain fewer `print` statements than standalone `.py` files, if any. In this book, I have kept the `print` statements from example code for consistency and clarity.\n",
    "\n",
    "Note that if you were to run any of the code snippets below in a standalone `.py` file, you would not see any output. Because these code statements are just the literal values, Jupyter Notebook prints the same thing that was entered in the cell originally, but this would require an explicit `print` statement in a standalone file. \n",
    "\n",
    "Also notice that the comments are _not_ printed, as we would expect!"
   ]
  },
  {
   "cell_type": "code",
   "execution_count": 4,
   "metadata": {},
   "outputs": [
    {
     "data": {
      "text/plain": [
       "25"
      ]
     },
     "execution_count": 4,
     "metadata": {},
     "output_type": "execute_result"
    }
   ],
   "source": [
    "# A number is just digits\n",
    "25"
   ]
  },
  {
   "cell_type": "code",
   "execution_count": 5,
   "metadata": {},
   "outputs": [
    {
     "data": {
      "text/plain": [
       "'Hello World'"
      ]
     },
     "execution_count": 5,
     "metadata": {},
     "output_type": "execute_result"
    }
   ],
   "source": [
    "# A string is anything surrounded by matching quotation marks\n",
    "\"Hello World\""
   ]
  },
  {
   "cell_type": "code",
   "execution_count": 6,
   "metadata": {},
   "outputs": [
    {
     "data": {
      "text/plain": [
       "['this', 'is', 1, 'list']"
      ]
     },
     "execution_count": 6,
     "metadata": {},
     "output_type": "execute_result"
    }
   ],
   "source": [
    "# A list is surrounded by square brackets, with commas between items\n",
    "[\"this\",\"is\",1,\"list\"]"
   ]
  },
  {
   "cell_type": "code",
   "execution_count": 7,
   "metadata": {},
   "outputs": [
    {
     "data": {
      "text/plain": [
       "{'title': 'Practical Python for Data Wrangling and Data Quality',\n",
       " 'format': 'book',\n",
       " 'author': 'Susan E. McGregor'}"
      ]
     },
     "execution_count": 7,
     "metadata": {},
     "output_type": "execute_result"
    }
   ],
   "source": [
    "# An object is a set of key:value pairs, separated by commas and surrounded\n",
    "# by curly braces\n",
    "{\"title\":\"Practical Python for Data Wrangling and Data Quality\",\n",
    " \"format\": \"book\",\n",
    " \"author\": \"Susan E. McGregor\"\n",
    "}"
   ]
  },
  {
   "cell_type": "code",
   "execution_count": 8,
   "metadata": {},
   "outputs": [
    {
     "data": {
      "text/plain": [
       "True"
      ]
     },
     "execution_count": 8,
     "metadata": {},
     "output_type": "execute_result"
    }
   ],
   "source": [
    "# A Boolean is a data type that has only two values, true and false.\n",
    "True"
   ]
  }
 ],
 "metadata": {
  "kernelspec": {
   "display_name": "Python 3",
   "language": "python",
   "name": "python3"
  },
  "language_info": {
   "codemirror_mode": {
    "name": "ipython",
    "version": 3
   },
   "file_extension": ".py",
   "mimetype": "text/x-python",
   "name": "python",
   "nbconvert_exporter": "python",
   "pygments_lexer": "ipython3",
   "version": "3.8.3"
  }
 },
 "nbformat": 4,
 "nbformat_minor": 4
}
