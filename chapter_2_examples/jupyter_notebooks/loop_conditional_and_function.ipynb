{
 "cells": [
  {
   "cell_type": "code",
   "execution_count": null,
   "metadata": {},
   "outputs": [],
   "source": [
    "# create a list that contains the number of pages in each chapter\n",
    "# of the print version of this book\n",
    "\n",
    "page_counts = [28, 32, 44, 23, 56, 32, 12, 34, 30]\n",
    "\n",
    "# by adding a function line that takes a list of numbers as an \"ingredient\"/argument\n",
    "# we can just indent our existing code by one tab to make it part of that function\n",
    "def count_pages(page_count_list):\n",
    "\n",
    "    # create variables to keep track of the total pages,\n",
    "    # the number of chapters with more than 30 pages, \n",
    "    # and the number of chapters with fewer than 30 pages\n",
    "    total_pages = 0\n",
    "    under_30 = 0\n",
    "    over_30 = 0\n",
    "\n",
    "\n",
    "    # for every item in the page_counts list:\n",
    "    for a_number in page_counts:\n",
    "        # add the current number of pages to our total_pages count\n",
    "        total_pages = total_pages + a_number\n",
    "        # check if the current number of pages is more than 30\n",
    "        if a_number > 30:\n",
    "            # if the current number of pages *is* more than 30,\n",
    "            # add 1 to our over_30 counter\n",
    "            over_30 = over_30 + 1\n",
    "        # otherwise...\n",
    "        else:   \n",
    "            # add 1 to our under_30 counter\n",
    "            under_30 = under_30 + 1\n",
    "\n",
    "\n",
    "    print(total_pages)\n",
    "    print(\"Number of chapters over 30 pages:\")\n",
    "    print(over_30)\n",
    "    print(\"Number of chapters under 30 pages:\")\n",
    "    print(under_30)\n",
    "\n",
    "# if we want anything to happen, we have to actually run this \"recipe\",\n",
    "# being sure to pass in our list \"ingredient\"\n",
    "count_pages(page_counts)"
   ]
  }
 ],
 "metadata": {
  "kernelspec": {
   "display_name": "Python 3",
   "language": "python",
   "name": "python3"
  },
  "language_info": {
   "codemirror_mode": {
    "name": "ipython",
    "version": 3
   },
   "file_extension": ".py",
   "mimetype": "text/x-python",
   "name": "python",
   "nbconvert_exporter": "python",
   "pygments_lexer": "ipython3",
   "version": "3.8.3"
  }
 },
 "nbformat": 4,
 "nbformat_minor": 4
}
