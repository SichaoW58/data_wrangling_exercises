{
 "cells": [
  {
   "cell_type": "markdown",
   "metadata": {},
   "source": [
    "### Creating custom functions\n",
    "\n",
    "One of the potentially tricky things about Jupyter Notebooks is that it's possible to run the code \"out of order\", which can sometimes cause problems. For example, select `Kernel -> Restart & Clear Output`, and then try running the last cell below _before_ running the second to last cell - you'll get an error.\n",
    "\n",
    "Recall that computers read code top-to-bottom, and left-to-right. Jupyter Notebooks let us break that rule, which can make it easier to test and troubleshoot small bits of code. At the same time, accidentally running cells out of order can generate errors even if the code--when \"read\" correctly--works properly. For example, if you run the last cell _again_ after running the third cell, it will now work: the `greet_me` function is defined in the third cell, and the computer still \"remembers\" it when it is referenced in the fourth cell--even though they are in separate cells.\n",
    "\n",
    "If you're having problems with code in a Jupyter Notebook that you're fairly sure should work (such as examples from this book), try choosing `Kernel -> Restart & Run All` to see if that solves it. You can also use the `Kernel -> Restart & Clear Output` command above to clear the numbering to the left of the cells if it has gotten out of order and you want to start again."
   ]
  },
  {
   "cell_type": "code",
   "execution_count": null,
   "metadata": {},
   "outputs": [],
   "source": [
    "# create a variable named author, and set its contents to \"Susan E. McGregor\"\n",
    "# using the assignment operator, '='\n",
    "author = \"Susan E. McGregor\" \n",
    "\n",
    "# confirm that the computer \"remembers\" what's in the `author` variable\n",
    "# by using the built-in 'print' function\n",
    "print(author)"
   ]
  },
  {
   "cell_type": "code",
   "execution_count": null,
   "metadata": {},
   "outputs": [],
   "source": [
    "# create a variable named author\n",
    "author = \"Susan E. McGregor\" \n",
    "\n",
    "# create another variable named editor\n",
    "editor  = \"Jeff Bleiel\"\n",
    "\n",
    "# use the built-in print function to output \"Hello\" messages to each person\n",
    "print(\"Hello \"+author)\n",
    "print(\"Hello \"+editor)"
   ]
  },
  {
   "cell_type": "code",
   "execution_count": null,
   "metadata": {},
   "outputs": [],
   "source": [
    "# create a function that prints out a greeting to any name passed to the function\n",
    "\n",
    "def greet_me(a_name):\n",
    "    print(\"Hello \"+a_name)\n",
    "\n",
    "\n",
    "# create a variable named author\n",
    "author = \"Susan E. McGregor\" \n",
    "\n",
    "# create another variable named editor\n",
    "editor  = \"Jeff Bleiel\"\n",
    "\n",
    "# use my custom function, greet_me to output \"Hello\" messages to each person\n",
    "greet_me(author)\n",
    "greet_me(editor)"
   ]
  },
  {
   "cell_type": "code",
   "execution_count": null,
   "metadata": {},
   "outputs": [],
   "source": [
    "greet_me(\"Susan E. McGregor\")"
   ]
  }
 ],
 "metadata": {
  "kernelspec": {
   "display_name": "Python 3",
   "language": "python",
   "name": "python3"
  },
  "language_info": {
   "codemirror_mode": {
    "name": "ipython",
    "version": 3
   },
   "file_extension": ".py",
   "mimetype": "text/x-python",
   "name": "python",
   "nbconvert_exporter": "python",
   "pygments_lexer": "ipython3",
   "version": "3.8.3"
  }
 },
 "nbformat": 4,
 "nbformat_minor": 4
}
