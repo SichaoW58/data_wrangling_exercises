{
 "cells": [
  {
   "cell_type": "code",
   "execution_count": 1,
   "metadata": {},
   "outputs": [
    {
     "name": "stdout",
     "output_type": "stream",
     "text": [
      "Top of loop!\n",
      "The current item is:\n",
      "28\n",
      "The running total is:\n",
      "28\n",
      "Bottom of loop!\n",
      "Top of loop!\n",
      "The current item is:\n",
      "32\n",
      "The running total is:\n",
      "60\n",
      "Bottom of loop!\n",
      "Top of loop!\n",
      "The current item is:\n",
      "44\n",
      "The running total is:\n",
      "104\n",
      "Bottom of loop!\n",
      "Top of loop!\n",
      "The current item is:\n",
      "23\n",
      "The running total is:\n",
      "127\n",
      "Bottom of loop!\n",
      "Top of loop!\n",
      "The current item is:\n",
      "56\n",
      "The running total is:\n",
      "183\n",
      "Bottom of loop!\n",
      "Top of loop!\n",
      "The current item is:\n",
      "32\n",
      "The running total is:\n",
      "215\n",
      "Bottom of loop!\n",
      "Top of loop!\n",
      "The current item is:\n",
      "12\n",
      "The running total is:\n",
      "227\n",
      "Bottom of loop!\n",
      "Top of loop!\n",
      "The current item is:\n",
      "34\n",
      "The running total is:\n",
      "261\n",
      "Bottom of loop!\n",
      "Top of loop!\n",
      "The current item is:\n",
      "30\n",
      "The running total is:\n",
      "291\n",
      "Bottom of loop!\n",
      "291\n"
     ]
    }
   ],
   "source": [
    "# create a list that contains the number of pages in each chapter\n",
    "# of the print version of this book\n",
    "\n",
    "page_counts = [28, 32, 44, 23, 56, 32, 12, 34, 30]\n",
    "\n",
    "# create a variable to keep track of the total number of pages,\n",
    "# starting its value at 0\n",
    "total_pages = 0\n",
    "\n",
    "# for every item in the list, perform some action - in this case,\n",
    "# add the number to our \"total_pages\" variable\n",
    "for a_number in page_counts:\n",
    "    print(\"Top of loop!\")\n",
    "    print(\"The current item is:\")\n",
    "    print(a_number)\n",
    "    total_pages = total_pages + a_number\n",
    "    print(\"The running total is:\")\n",
    "    print(total_pages)\n",
    "    print(\"Bottom of loop!\")\n",
    "\n",
    "print(total_pages)"
   ]
  },
  {
   "cell_type": "code",
   "execution_count": null,
   "metadata": {},
   "outputs": [],
   "source": []
  }
 ],
 "metadata": {
  "kernelspec": {
   "display_name": "Python 3",
   "language": "python",
   "name": "python3"
  },
  "language_info": {
   "codemirror_mode": {
    "name": "ipython",
    "version": 3
   },
   "file_extension": ".py",
   "mimetype": "text/x-python",
   "name": "python",
   "nbconvert_exporter": "python",
   "pygments_lexer": "ipython3",
   "version": "3.8.3"
  }
 },
 "nbformat": 4,
 "nbformat_minor": 4
}
