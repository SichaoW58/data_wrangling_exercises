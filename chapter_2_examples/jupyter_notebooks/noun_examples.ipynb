{
 "cells": [
  {
   "cell_type": "markdown",
   "metadata": {},
   "source": [
    "### Working with variables\n",
    "\n",
    "Note that, unlike our last example, when we assign a value to a variable, Jupyter Notebook _doesn't_ print out its value automatically when we run that cell.\n",
    "\n",
    "The subsequent cells, however, work just as they would in an standalone `.py` file."
   ]
  },
  {
   "cell_type": "code",
   "execution_count": null,
   "metadata": {},
   "outputs": [],
   "source": [
    "author = \"Susan E. McGregor\""
   ]
  },
  {
   "cell_type": "code",
   "execution_count": null,
   "metadata": {},
   "outputs": [],
   "source": [
    "# create a variable named author, set its contents to \"Susan E. McGregor\"\n",
    "author = \"Susan E. McGregor\" \n",
    "\n",
    "# confirm that the computer \"remembers\" what's in the `author` variable\n",
    "print(author)"
   ]
  },
  {
   "cell_type": "code",
   "execution_count": null,
   "metadata": {},
   "outputs": [],
   "source": [
    "# create a variable named nyc_resident, set its contents to \"Susan E. McGregor\"\n",
    "nyc_resident = \"Susan E. McGregor\" \n",
    "\n",
    "# confirm that the computer \"remembers\" what's in the `nyc_resident` variable\n",
    "print(nyc_resident)\n",
    "\n",
    "# create a variable named fuzzyPinkBunny, set its contents to \"Susan E. McGregor\"\n",
    "fuzzyPinkBunny = \"Susan E. McGregor\" \n",
    "\n",
    "# confirm that the computer \"remembers\" what's in the `fuzzyPinkBunny` variable\n",
    "print(fuzzyPinkBunny)\n",
    "\n",
    "# but correct capitalization matters!\n",
    "# the following line will produce an error\n",
    "print(fuzzypinkbunny)"
   ]
  }
 ],
 "metadata": {
  "kernelspec": {
   "display_name": "Python 3",
   "language": "python",
   "name": "python3"
  },
  "language_info": {
   "codemirror_mode": {
    "name": "ipython",
    "version": 3
   },
   "file_extension": ".py",
   "mimetype": "text/x-python",
   "name": "python",
   "nbconvert_exporter": "python",
   "pygments_lexer": "ipython3",
   "version": "3.8.3"
  }
 },
 "nbformat": 4,
 "nbformat_minor": 4
}
