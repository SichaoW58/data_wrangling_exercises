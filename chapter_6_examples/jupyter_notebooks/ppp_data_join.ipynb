{
 "cells": [
  {
   "cell_type": "code",
   "execution_count": null,
   "metadata": {},
   "outputs": [],
   "source": [
    "# Quick script for creating new CSVs that each contain the first few rows of\n",
    "# our larger data files\n",
    "\n",
    "# importing the `pandas` library. The `as` keyword let's us essentially create\n",
    "# a nickname for the library so that we can refer to it in fewer characters\n",
    "import pandas as pd"
   ]
  },
  {
   "cell_type": "code",
   "execution_count": null,
   "metadata": {},
   "outputs": [],
   "source": [
    "# # UNCOMMENT BELOW TO USE WITH GOOGLE COLAB\n",
    "# # Import PyDrive and associated libraries.\n",
    "# # This only needs to be done once per notebook.\n",
    "# # Documentation found here: https://colab.research.google.com/notebooks/io.ipynb#scrollTo=7taylj9wpsA2\n",
    "# from pydrive.auth import GoogleAuth\n",
    "# from pydrive.drive import GoogleDrive\n",
    "# from google.colab import auth\n",
    "# from oauth2client.client import GoogleCredentials\n",
    "\n",
    "# # Authenticate and create the PyDrive client.\n",
    "# # This only needs to be done once per notebook.\n",
    "# auth.authenticate_user()\n",
    "# gauth = GoogleAuth()\n",
    "# gauth.credentials = GoogleCredentials.get_application_default()\n",
    "# drive = GoogleDrive(gauth)"
   ]
  },
  {
   "cell_type": "code",
   "execution_count": null,
   "metadata": {},
   "outputs": [],
   "source": [
    "# # UNCOMMENT BELOW TO USE WITH GOOGLE COLAB\n",
    "# # This loads the August 2020 data\n",
    "# # Link to data file stored in Drive: https://drive.google.com/file/d/11wTOapbAzcfeCQVVB-YJFIpsQVaZxJAm/view?usp=sharing\n",
    "# file_id = '11wTOapbAzcfeCQVVB-YJFIpsQVaZxJAm' # notice where this string comes from in link above\n",
    "\n",
    "# imported_file = drive.CreateFile({'id': file_id}) # creating an accessible copy of the shared data file\n",
    "# print(imported_file['title'])  # it should print the title of desired file\n",
    "# imported_file.GetContentFile(imported_file['title']) # refer to it in this notebook by the same name as it has in Drive"
   ]
  },
  {
   "cell_type": "code",
   "execution_count": null,
   "metadata": {},
   "outputs": [],
   "source": [
    "# # UNCOMMENT BELOW TO USE WITH GOOGLE COLAB\n",
    "# # This loads the \"recent\" (February 2021) data\n",
    "# # Link to data file stored in Drive: https://drive.google.com/file/d/1EtUB0nK9aQeWWWGUOiayO9Oe-avsKvXH/view?usp=sharing\n",
    "# file_id = '1EtUB0nK9aQeWWWGUOiayO9Oe-avsKvXH' # notice where this string comes from in link above\n",
    "\n",
    "# imported_file = drive.CreateFile({'id': file_id}) # creating an accessible copy of the shared data file\n",
    "# print(imported_file['title'])  # it should print the title of desired file\n",
    "# imported_file.GetContentFile(imported_file['title']) # refer to it in this notebook by the same name as it has in Drive"
   ]
  },
  {
   "cell_type": "code",
   "execution_count": null,
   "metadata": {},
   "outputs": [],
   "source": [
    "# read the august data into a pandas DataFrame using the library's\n",
    "# `read_csv()` method\n",
    "august_ppp_data = pd.read_csv('public_150k_plus_080820.csv')\n",
    "\n",
    "# read the recent data into a pandas DataFrame using the library's\n",
    "# `read_csv()` method\n",
    "recent_ppp_data = pd.read_csv('public_150k_plus_recent.csv')"
   ]
  },
  {
   "cell_type": "code",
   "execution_count": null,
   "metadata": {},
   "outputs": [],
   "source": [
    "# now that we have both files in memory, let's merge them\n",
    "# we're going to preserve the index here because it will be the easiest way\n",
    "# to keep track of what matched (and what didn't)\n",
    "merged_data = pd.merge(august_ppp_data,recent_ppp_data,how='outer',left_on=['BusinessName','Lender','DateApproved'],right_on=['BorrowerName','ServicingLenderName','DateApproved'],indicator=True)"
   ]
  },
  {
   "cell_type": "code",
   "execution_count": null,
   "metadata": {},
   "outputs": [],
   "source": [
    "# when we use the `indicator=True` argument/ingredient, it produces a column\n",
    "# called '_merge' that shows which data set that particular row matched\n",
    "# as we will see from the following print statement, that value can be\n",
    "# 'both', 'left_only', or 'right_only'\n",
    "print(merged_data.value_counts('_merge'))"
   ]
  },
  {
   "cell_type": "code",
   "execution_count": null,
   "metadata": {},
   "outputs": [],
   "source": [
    "# now that we have both files in memory, let's merge them\n",
    "# we're going to preserve the index here because it will be the easiest way\n",
    "# to keep track of what matched (and what didn't)\n",
    "merged_data_no_date = pd.merge(august_ppp_data,recent_ppp_data,how='outer',left_on=['BusinessName','Lender'],right_on=['BorrowerName','ServicingLenderName'],indicator=True)"
   ]
  },
  {
   "cell_type": "code",
   "execution_count": null,
   "metadata": {},
   "outputs": [],
   "source": [
    "# when we use the `indicator=True` argument/ingredient, it produces a column\n",
    "# called '_merge' that shows which data set that particular row matched\n",
    "# as we will see from the following print statement, that value can be\n",
    "# 'both', 'left_only', or 'right_only'\n",
    "print(merged_data_no_date.value_counts('_merge'))"
   ]
  },
  {
   "cell_type": "code",
   "execution_count": null,
   "metadata": {},
   "outputs": [],
   "source": [
    "# now that we have both files in memory, let's merge them\n",
    "# we're going to preserve the index here because it will be the easiest way\n",
    "# to keep track of what matched (and what didn't)\n",
    "merged_data_biz_only = pd.merge(august_ppp_data,recent_ppp_data,how='outer',left_on=['BusinessName'],right_on=['BorrowerName'],indicator=True)"
   ]
  },
  {
   "cell_type": "code",
   "execution_count": null,
   "metadata": {},
   "outputs": [],
   "source": [
    "# when we use the `indicator=True` argument/ingredient, it produces a column\n",
    "# called '_merge' that shows which data set that particular row matched\n",
    "# as we will see from the following print statement, that value can be\n",
    "# 'both', 'left_only', or 'right_only'\n",
    "print(merged_data_biz_only.value_counts('_merge'))"
   ]
  }
 ],
 "metadata": {
  "kernelspec": {
   "display_name": "Python 3",
   "language": "python",
   "name": "python3"
  },
  "language_info": {
   "codemirror_mode": {
    "name": "ipython",
    "version": 3
   },
   "file_extension": ".py",
   "mimetype": "text/x-python",
   "name": "python",
   "nbconvert_exporter": "python",
   "pygments_lexer": "ipython3",
   "version": "3.8.3"
  }
 },
 "nbformat": 4,
 "nbformat_minor": 4
}
