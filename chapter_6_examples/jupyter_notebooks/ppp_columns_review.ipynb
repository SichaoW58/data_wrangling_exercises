{
 "cells": [
  {
   "cell_type": "code",
   "execution_count": null,
   "metadata": {},
   "outputs": [],
   "source": [
    "# Quick script for reviewing the all the column names in the PPP data\n",
    "# to see what we can infer about them from the data itself\n",
    "\n",
    "# importing the `pandas` library. The `as` keyword let's us essentially create\n",
    "# a nickname for the library so that we can refer to it in fewer characters\n",
    "import pandas as pd"
   ]
  },
  {
   "cell_type": "code",
   "execution_count": null,
   "metadata": {},
   "outputs": [],
   "source": [
    "# # UNCOMMENT BELOW TO USE WITH GOOGLE COLAB\n",
    "# # Import PyDrive and associated libraries.\n",
    "# # This only needs to be done once per notebook.\n",
    "# # Documentation found here: https://colab.research.google.com/notebooks/io.ipynb#scrollTo=7taylj9wpsA2\n",
    "# from pydrive.auth import GoogleAuth\n",
    "# from pydrive.drive import GoogleDrive\n",
    "# from google.colab import auth\n",
    "# from oauth2client.client import GoogleCredentials\n",
    "\n",
    "# # Authenticate and create the PyDrive client.\n",
    "# # This only needs to be done once per notebook.\n",
    "# auth.authenticate_user()\n",
    "# gauth = GoogleAuth()\n",
    "# gauth.credentials = GoogleCredentials.get_application_default()\n",
    "# drive = GoogleDrive(gauth)"
   ]
  },
  {
   "cell_type": "code",
   "execution_count": null,
   "metadata": {},
   "outputs": [],
   "source": [
    "# # UNCOMMENT BELOW TO USE WITH GOOGLE COLAB\n",
    "# # This loads the recent data sample we created with the `ppp_data_sample` script\n",
    "# # Link to data file stored in Drive: https://drive.google.com/file/d/14pVrtQ63p8fFXaHvtrbm7kNpoCS0NLSe/view?usp=sharing\n",
    "# file_id = '14pVrtQ63p8fFXaHvtrbm7kNpoCS0NLSe' # notice where this string comes from in link above\n",
    "\n",
    "# imported_file = drive.CreateFile({'id': file_id}) # creating an accessible copy of the shared data file\n",
    "# print(imported_file['title'])  # it should print the title of desired file\n",
    "# imported_file.GetContentFile(imported_file['title']) # refer to it in this notebook by the same name as it has in Drive"
   ]
  },
  {
   "cell_type": "code",
   "execution_count": null,
   "metadata": {},
   "outputs": [],
   "source": [
    "# for the sake of speed, the pandas `read_csv()` method converts all missing\n",
    "# entries to `NaN` (Not a Number), as described here:\n",
    "# https://pandas.pydata.org/pandas-docs/stable/user_guide/missing_data.html\n",
    "# To get these values converted to a more general (and intuitive) '<NA>'\n",
    "# label, we'll use the `convertdtypes()` method, as described here:\n",
    "# https://pandas.pydata.org/pandas-docs/stable/user_guide/missing_data.html#missing-data-na-conversion\n",
    "converted_data_sample = ppp_data_sample.convert_dtypes()"
   ]
  },
  {
   "cell_type": "code",
   "execution_count": null,
   "metadata": {},
   "outputs": [],
   "source": [
    "# now that we have more generic values for the cells with missing data,\n",
    "# transpose the whole sample\n",
    "transposed_ppp_data_sample = converted_data_sample.transpose()"
   ]
  },
  {
   "cell_type": "code",
   "execution_count": null,
   "metadata": {},
   "outputs": [],
   "source": [
    "# print out the results!\n",
    "print(transposed_ppp_data_sample)"
   ]
  }
 ],
 "metadata": {
  "kernelspec": {
   "display_name": "Python 3",
   "language": "python",
   "name": "python3"
  },
  "language_info": {
   "codemirror_mode": {
    "name": "ipython",
    "version": 3
   },
   "file_extension": ".py",
   "mimetype": "text/x-python",
   "name": "python",
   "nbconvert_exporter": "python",
   "pygments_lexer": "ipython3",
   "version": "3.8.3"
  }
 },
 "nbformat": 4,
 "nbformat_minor": 4
}
