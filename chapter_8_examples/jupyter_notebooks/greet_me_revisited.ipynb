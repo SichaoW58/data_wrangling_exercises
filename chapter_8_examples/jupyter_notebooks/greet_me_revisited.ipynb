{
 "cells": [
  {
   "cell_type": "code",
   "execution_count": null,
   "metadata": {},
   "outputs": [],
   "source": [
    "# create a function that prints out a greeting to any name passed to the function\n",
    "def greet_me(a_name):\n",
    "    print(\"Variable `a_name` in `greet_me`: \"+a_name)\n",
    "    print(\"Hello \"+a_name)"
   ]
  },
  {
   "cell_type": "code",
   "execution_count": null,
   "metadata": {},
   "outputs": [],
   "source": [
    "# create a variable named author\n",
    "author = \"Susan E. McGregor\""
   ]
  },
  {
   "cell_type": "code",
   "execution_count": null,
   "metadata": {},
   "outputs": [],
   "source": [
    "# create another variable named editor\n",
    "editor  = \"Jeff Bleiel\""
   ]
  },
  {
   "cell_type": "code",
   "execution_count": null,
   "metadata": {},
   "outputs": [],
   "source": [
    "a_name = \"Python\"\n",
    "print(\"Variable `a_name` in main script: \"+a_name)"
   ]
  },
  {
   "cell_type": "code",
   "execution_count": null,
   "metadata": {},
   "outputs": [],
   "source": [
    "# use my custom function, greet_me to output \"Hello\" messages to each person\n",
    "greet_me(author)\n",
    "greet_me(editor)"
   ]
  },
  {
   "cell_type": "code",
   "execution_count": null,
   "metadata": {},
   "outputs": [],
   "source": [
    "print(\"Variable `a_name` in main script again: \"+a_name)"
   ]
  }
 ],
 "metadata": {
  "kernelspec": {
   "display_name": "Python 3",
   "language": "python",
   "name": "python3"
  },
  "language_info": {
   "codemirror_mode": {
    "name": "ipython",
    "version": 3
   },
   "file_extension": ".py",
   "mimetype": "text/x-python",
   "name": "python",
   "nbconvert_exporter": "python",
   "pygments_lexer": "ipython3",
   "version": "3.8.3"
  }
 },
 "nbformat": 4,
 "nbformat_minor": 4
}
