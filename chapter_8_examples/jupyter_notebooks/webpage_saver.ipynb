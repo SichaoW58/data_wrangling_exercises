{
 "cells": [
  {
   "cell_type": "code",
   "execution_count": null,
   "metadata": {},
   "outputs": [],
   "source": [
    "\"\"\" Webpage Saver!\n",
    "\n",
    "Downloads the contents of a webpage and it locally\n",
    "\n",
    "Usage\n",
    "-----\n",
    "python webpage_saver.py target_url filename\n",
    "\n",
    "\n",
    "Parameters\n",
    "----------\n",
    "target_url : str\n",
    "    The full URL of the webpage to be downloaded\n",
    "filename : str\n",
    "    The desired filename of the local copy\n",
    "\n",
    "Requirements\n",
    "------------\n",
    "* argparse module\n",
    "* requests module\n",
    "\n",
    "\n",
    "\"\"\""
   ]
  },
  {
   "cell_type": "code",
   "execution_count": null,
   "metadata": {},
   "outputs": [],
   "source": [
    "# include the requests library in order to get data from the web\n",
    "import requests\n",
    "\n",
    "# include argparse library to pull arguments from the command line\n",
    "import argparse"
   ]
  },
  {
   "cell_type": "code",
   "execution_count": null,
   "metadata": {},
   "outputs": [],
   "source": [
    "# We will imitate the idea of passing in command line arguments here by populating the \n",
    "# sys.argv property manually. While this works, it somewhat defeats the purpose of\n",
    "# this type of file structure (though it does at least make the variables that need\n",
    "# changing easy to find!)\n",
    "import sys\n",
    "sys.argv=[\"webpage_save.ipynb\",\"http://web.mta.info/developers/turnstile.html\",\"MTA_turnstiles_index.html\"]"
   ]
  },
  {
   "cell_type": "code",
   "execution_count": null,
   "metadata": {},
   "outputs": [],
   "source": [
    "parser = argparse.ArgumentParser()\n",
    "# arguments will be assigned based on the order in which they were provided\n",
    "parser.add_argument(\"target_url\", help=\"The full URL of the webpage to be downloaded\")\n",
    "parser.add_argument(\"filename\", help=\"The desired filename of the local copy\")\n",
    "args = parser.parse_args()\n",
    "\n",
    "# pull the url of the webpage we're downloading from the provided arguments\n",
    "target_url = args.target_url\n",
    "\n",
    "# pull the intended output filename from the provided arguments\n",
    "output_filename = args.filename"
   ]
  },
  {
   "cell_type": "code",
   "execution_count": null,
   "metadata": {},
   "outputs": [],
   "source": [
    "# since we're *not* using an API, the website owner will have no way to identify\n",
    "# us unless we provide some additional information. In this case, we're\n",
    "# describing the browser it should treat our traffic as being from. We're also\n",
    "# providing our name and contact information. This is data that the website\n",
    "# owner will be able to see in their server logs.\n",
    "headers = {\n",
    "    'User-Agent': 'Mozilla/5.0 (X11; CrOS x86_64 13597.66.0) AppleWebKit/537.36 (KHTML, like Gecko) Chrome/88.0.4324.109 Safari/537.36',\n",
    "    'From': 'YOUR NAME HERE - youremailaddress@emailprovider.com'\n",
    "}"
   ]
  },
  {
   "cell_type": "code",
   "execution_count": null,
   "metadata": {},
   "outputs": [],
   "source": [
    "# because we're just loading a regular webpage, we send a `get` request to the\n",
    "# URL, along with our informational headers\n",
    "webpage = requests.get(target_url, headers=headers)"
   ]
  },
  {
   "cell_type": "code",
   "execution_count": null,
   "metadata": {},
   "outputs": [],
   "source": [
    "# opening up a local file to save the contents of the webpage to\n",
    "output_file = open(output_filename,\"w\")"
   ]
  },
  {
   "cell_type": "code",
   "execution_count": null,
   "metadata": {},
   "outputs": [],
   "source": [
    "# the webpage's code is in the `text` property of the website's response\n",
    "# so write that to our file\n",
    "output_file.write(webpage.text)"
   ]
  },
  {
   "cell_type": "code",
   "execution_count": null,
   "metadata": {},
   "outputs": [],
   "source": [
    "# close our output file!\n",
    "output_file.close()"
   ]
  },
  {
   "cell_type": "code",
   "execution_count": null,
   "metadata": {},
   "outputs": [],
   "source": [
    "# # UNCOMMENT BELOW TO USE WITH GOOGLE COLAB\n",
    "# from google.colab import files\n",
    "# files.download(output_filename)"
   ]
  }
 ],
 "metadata": {
  "kernelspec": {
   "display_name": "Python 3",
   "language": "python",
   "name": "python3"
  },
  "language_info": {
   "codemirror_mode": {
    "name": "ipython",
    "version": 3
   },
   "file_extension": ".py",
   "mimetype": "text/x-python",
   "name": "python",
   "nbconvert_exporter": "python",
   "pygments_lexer": "ipython3",
   "version": "3.8.3"
  }
 },
 "nbformat": 4,
 "nbformat_minor": 4
}
