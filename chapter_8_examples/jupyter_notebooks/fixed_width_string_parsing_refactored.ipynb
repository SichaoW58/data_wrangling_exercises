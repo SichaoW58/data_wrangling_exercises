{
 "cells": [
  {
   "cell_type": "code",
   "execution_count": null,
   "metadata": {},
   "outputs": [],
   "source": [
    "\"\"\" NOAA data formatter\n",
    "Reads data from an NOAA fixed-width data file with Python and outputs\n",
    "a well-formatted CSV file.\n",
    "\n",
    "The source file for this example comes from the NOAA, and can be accessed here:\n",
    "https://www1.ncdc.noaa.gov/pub/data/ghcn/daily/ghcnd-stations.txt\n",
    "\n",
    "The metadata for the file can be found here:\n",
    "https://www1.ncdc.noaa.gov/pub/data/ghcn/daily/readme.txt\n",
    "\n",
    "Available functions\n",
    "-------------------\n",
    "* format_station_data: Converts a line of text to a list\n",
    "\n",
    "Requirements\n",
    "------------\n",
    "* csv module\n",
    "\n",
    "\"\"\""
   ]
  },
  {
   "cell_type": "code",
   "execution_count": null,
   "metadata": {},
   "outputs": [],
   "source": [
    "# we'll start by importing the \"csv\" library\n",
    "import csv"
   ]
  },
  {
   "cell_type": "code",
   "execution_count": null,
   "metadata": {},
   "outputs": [],
   "source": [
    "# # UNCOMMENT BELOW TO USE WITH GOOGLE COLAB\n",
    "# from google.colab import files"
   ]
  },
  {
   "cell_type": "code",
   "execution_count": null,
   "metadata": {},
   "outputs": [],
   "source": [
    "# # UNCOMMENT BELOW TO USE WITH GOOGLE COLAB\n",
    "# # Import PyDrive and associated libraries.\n",
    "# # This only needs to be done once per notebook.\n",
    "# # Documentation found here: https://colab.research.google.com/notebooks/io.ipynb#scrollTo=7taylj9wpsA2\n",
    "# from pydrive.auth import GoogleAuth\n",
    "# from pydrive.drive import GoogleDrive\n",
    "# from google.colab import auth\n",
    "# from oauth2client.client import GoogleCredentials\n",
    "\n",
    "# # Authenticate and create the PyDrive client.\n",
    "# # This only needs to be done once per notebook.\n",
    "# auth.authenticate_user()\n",
    "# gauth = GoogleAuth()\n",
    "# gauth.credentials = GoogleCredentials.get_application_default()\n",
    "# drive = GoogleDrive(gauth)"
   ]
  },
  {
   "cell_type": "code",
   "execution_count": null,
   "metadata": {},
   "outputs": [],
   "source": [
    "# # UNCOMMENT BELOW TO USE WITH GOOGLE COLAB\n",
    "# # Link to data file stored in Drive: https://drive.google.com/file/d/1D7uOn-_nj6sYN7ArjSMKgMU0rXCRmgjr/view?usp=sharing\n",
    "# file_id = '1D7uOn-_nj6sYN7ArjSMKgMU0rXCRmgjr' # notice where this string comes from in link above\n",
    "\n",
    "# imported_file = drive.CreateFile({'id': file_id}) # creating an accessible copy of the shared data file\n",
    "# print(imported_file['title'])  # it should print the title of desired file\n",
    "# imported_file.GetContentFile(imported_file['title']) # refer to it in this notebook by the same name as it has in Drive"
   ]
  },
  {
   "cell_type": "code",
   "execution_count": null,
   "metadata": {},
   "outputs": [],
   "source": [
    "def main():\n",
    "    # variable to match our output filename to the input filename\n",
    "    filename = \"ghcnd-stations\"\n",
    "\n",
    "    # we'll just open the file in read format (\"r\") as usual\n",
    "    source_file = open(filename+\".txt\", \"r\")\n",
    "\n",
    "    # the \"readlines()\" method converts a text file to a list of lines\n",
    "    stations_list = source_file.readlines()\n",
    "\n",
    "    # as usual, we'll create an output file to write to\n",
    "    output_file = open(filename+\".csv\",\"w\")\n",
    "\n",
    "    # and we'll use the `csv` library to create a \"writer\" that gives us handy\n",
    "    # \"recipe\" functions for creating our new file in csv format\n",
    "    output_writer = csv.writer(output_file)\n",
    "\n",
    "    # since we don't have column headers within these file we have to \"hard code\"\n",
    "    # these based on the information in the `readme.txt` file\n",
    "    headers = [\"ID\",\"LATITUDE\",\"LONGITUDE\",\"ELEVATION\",\"STATE\",\"NAME\",\"GSN_FLAG\",\"HCNCRN_FLAG\",\"WMO_ID\"]\n",
    "\n",
    "    column_ranges = [(1,11),(13,20),(22,30),(32,37),(39,40),(42,71),(73,75),(77,79),(81,85)]\n",
    "    # write our headers to the output file\n",
    "    output_writer.writerow(headers)\n",
    "\n",
    "    # loop through each line of our file\n",
    "    for line in stations_list:\n",
    "\n",
    "        # send our data to be formatted\n",
    "        new_row = format_station_data(line, column_ranges)\n",
    "\n",
    "        # use the `writerow` function to write new_row to our output file\n",
    "        output_writer.writerow(new_row)\n",
    "\n",
    "    # just for good measure, let's close the `.csv` file we just created\n",
    "    output_file.close()\n",
    "    \n",
    "    \n",
    "#     # UNCOMMENT BELOW TO USE WITH GOOGLE COLAB\n",
    "#     files.download(filename+\".csv\")"
   ]
  },
  {
   "cell_type": "code",
   "execution_count": null,
   "metadata": {},
   "outputs": [],
   "source": [
    "def format_station_data(data_line, column_info, zero_index=False):\n",
    "    \"\"\"Converts a line of text to a list based on the index pairs provided\n",
    "\n",
    "    Parameters\n",
    "    ----------\n",
    "    data_line : str\n",
    "        The line of text to be parsed\n",
    "    column_info : list of tuples\n",
    "        Each tuple provides the start and end index of a data column\n",
    "    zero_index: boolean, optional\n",
    "        If False (default), reduces starting index position by one\n",
    "\n",
    "    Returns\n",
    "    -------\n",
    "    list\n",
    "        a list of data values, stripped of surrounding whitespace\n",
    "    \"\"\"\n",
    "\n",
    "    new_row = []\n",
    "\n",
    "    # default value assumes that list of index pairs is *NOT* zero-indexed,\n",
    "    # which means that starting index values need to be reduced by 1\n",
    "    index_offset = 1\n",
    "\n",
    "    # if column_info IS zero-indexed, don't offset starting index values\n",
    "    if zero_index:\n",
    "        index_offset = 0\n",
    "\n",
    "    for index_pair in column_info:\n",
    "\n",
    "        start_index = index_pair[0]-index_offset\n",
    "        end_index = index_pair[1]\n",
    "\n",
    "        # strip whitespace from around the data\n",
    "        new_row.append((data_line[start_index:end_index]).strip())\n",
    "\n",
    "    return new_row"
   ]
  },
  {
   "cell_type": "code",
   "execution_count": null,
   "metadata": {},
   "outputs": [],
   "source": [
    "if __name__ == \"__main__\":\n",
    "    main()"
   ]
  }
 ],
 "metadata": {
  "kernelspec": {
   "display_name": "Python 3",
   "language": "python",
   "name": "python3"
  },
  "language_info": {
   "codemirror_mode": {
    "name": "ipython",
    "version": 3
   },
   "file_extension": ".py",
   "mimetype": "text/x-python",
   "name": "python",
   "nbconvert_exporter": "python",
   "pygments_lexer": "ipython3",
   "version": "3.8.3"
  }
 },
 "nbformat": 4,
 "nbformat_minor": 4
}
