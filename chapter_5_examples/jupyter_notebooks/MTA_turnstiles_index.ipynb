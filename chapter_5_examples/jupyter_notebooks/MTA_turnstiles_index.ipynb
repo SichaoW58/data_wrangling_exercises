{
 "cells": [
  {
   "cell_type": "code",
   "execution_count": null,
   "metadata": {},
   "outputs": [],
   "source": [
    "# include the requests library in order to get data from the web\n",
    "import requests"
   ]
  },
  {
   "cell_type": "code",
   "execution_count": null,
   "metadata": {},
   "outputs": [],
   "source": [
    "# specify the url of the webpage we're downloading\n",
    "# this one contains a linked list of all the NYC MTA turnstile data files\n",
    "# going back to 2010\n",
    "mta_turnstiles_index_url = \"http://web.mta.info/developers/turnstile.html\""
   ]
  },
  {
   "cell_type": "code",
   "execution_count": null,
   "metadata": {},
   "outputs": [],
   "source": [
    "# since we're *not* using an API, the website owner will have no way to identify\n",
    "# us unless we provide some additional information. In this case, we're\n",
    "# describing the browser it should treat our traffic as being from. We're also\n",
    "# providing our name and contact information. This is data that the website\n",
    "# owner will be able to see in their server logs.\n",
    "headers = {\n",
    "    'User-Agent': 'Mozilla/5.0 (X11; CrOS x86_64 13597.66.0) AppleWebKit/537.36 (KHTML, like Gecko) Chrome/88.0.4324.109 Safari/537.36',\n",
    "    'From': 'YOUR NAME HERE - youremailaddress@emailprovider.som'\n",
    "}\n",
    "\n",
    "# because we're just loading a regular webpage, we send a `get` request to the\n",
    "# URL, along with our informational headers\n",
    "mta_webpage = requests.get(mta_turnstiles_index_url, headers=headers)"
   ]
  },
  {
   "cell_type": "code",
   "execution_count": null,
   "metadata": {},
   "outputs": [],
   "source": [
    "# opening up a local file to save the contents of the webpage to\n",
    "mta_turnstiles_output_file = open(\"MTA_turnstiles_index.html\",\"w\")\n",
    "\n",
    "# the webpage's code is in the `text` property of the website's response\n",
    "# so write that to our file\n",
    "mta_turnstiles_output_file.write(mta_webpage.text)\n",
    "\n",
    "# close our output file!\n",
    "mta_turnstiles_output_file.close()"
   ]
  },
  {
   "cell_type": "code",
   "execution_count": null,
   "metadata": {},
   "outputs": [],
   "source": [
    "# # UNCOMMENT BELOW TO USE WITH GOOGLE COLAB\n",
    "# from google.colab import files\n",
    "\n",
    "# files.download(\"MTA_turnstiles_index.html\")"
   ]
  }
 ],
 "metadata": {
  "kernelspec": {
   "display_name": "Python 3",
   "language": "python",
   "name": "python3"
  },
  "language_info": {
   "codemirror_mode": {
    "name": "ipython",
    "version": 3
   },
   "file_extension": ".py",
   "mimetype": "text/x-python",
   "name": "python",
   "nbconvert_exporter": "python",
   "pygments_lexer": "ipython3",
   "version": "3.8.3"
  }
 },
 "nbformat": 4,
 "nbformat_minor": 4
}
