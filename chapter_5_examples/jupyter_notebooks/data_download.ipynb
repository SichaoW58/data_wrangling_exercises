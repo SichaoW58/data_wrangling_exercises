{
 "cells": [
  {
   "cell_type": "code",
   "execution_count": 1,
   "metadata": {},
   "outputs": [],
   "source": [
    "# A basic example of downloading data from the web with Python,\n",
    "# using the requests library\n",
    "#\n",
    "# The source data we are downloading will come from the following URLs:\n",
    "# http://feeds.bbci.co.uk/news/science_and_environment/rss.xml\n",
    "# https://gbfs.citibikenyc.com/gbfs/en/station_status.json\n",
    "\n",
    "\n",
    "# import the requests library, which let's us write Python that acts like\n",
    "# a web browser through code\n",
    "import requests"
   ]
  },
  {
   "cell_type": "code",
   "execution_count": null,
   "metadata": {},
   "outputs": [],
   "source": [
    "# # UNCOMMENT BELOW TO USE WITH GOOGLE COLAB\n",
    "# from google.colab import files"
   ]
  },
  {
   "cell_type": "code",
   "execution_count": 2,
   "metadata": {},
   "outputs": [],
   "source": [
    "XMLfilename = \"BBC_RSS.xml\"\n",
    "\n",
    "# open a new, writable file with the filename we stored in our `XMLfilename`\n",
    "# variable\n",
    "xml_output_file = open(XMLfilename,\"w\")\n",
    "\n",
    "# use the requests library's \"get\" recipe to access the contents of our\n",
    "# target URL and store it in a our `xml_data` variable\n",
    "xml_data = requests.get('http://feeds.bbci.co.uk/news/science_and_environment/rss.xml')\n",
    "\n",
    "# the requests library's \"get\" function has put the contents of the webpage\n",
    "# in a property \"text\", which we'll write directly to our xml_output_file\n",
    "# using the built-in \"write\" method\n",
    "xml_output_file.write(xml_data.text)\n",
    "\n",
    "# close our xml_output_file\n",
    "xml_output_file.close()"
   ]
  },
  {
   "cell_type": "code",
   "execution_count": null,
   "metadata": {},
   "outputs": [],
   "source": [
    "# # UNCOMMENT BELOW TO USE WITH GOOGLE COLAB\n",
    "# files.download(XMLfilename)"
   ]
  },
  {
   "cell_type": "code",
   "execution_count": 3,
   "metadata": {},
   "outputs": [],
   "source": [
    "# our chosen filename for our XML file\n",
    "JSONfilename = \"citibikenyc_station_status.json\"\n",
    "\n",
    "# open a new, writable file with the filename we stored in our `JSONfilename`\n",
    "# variable\n",
    "json_output_file = open(JSONfilename,\"w\")\n",
    "\n",
    "# use the requests library's \"get\" recipe to access the contents of our\n",
    "# target URL and store it in a our `json_data` variable\n",
    "json_data = requests.get('https://gbfs.citibikenyc.com/gbfs/en/station_status.json')\n",
    "\n",
    "# the requests library's \"get\" function has put the contents of the webpage\n",
    "# in a property \"text\", which we'll write directly to our json_output_file\n",
    "# using the built-in \"write\" method\n",
    "json_output_file.write(json_data.text)\n",
    "\n",
    "# close our json_output_file\n",
    "json_output_file.close()"
   ]
  },
  {
   "cell_type": "code",
   "execution_count": null,
   "metadata": {},
   "outputs": [],
   "source": [
    "# # UNCOMMENT BELOW TO USE WITH GOOGLE COLAB\n",
    "# files.download(JSONfilename)"
   ]
  }
 ],
 "metadata": {
  "kernelspec": {
   "display_name": "Python 3",
   "language": "python",
   "name": "python3"
  },
  "language_info": {
   "codemirror_mode": {
    "name": "ipython",
    "version": 3
   },
   "file_extension": ".py",
   "mimetype": "text/x-python",
   "name": "python",
   "nbconvert_exporter": "python",
   "pygments_lexer": "ipython3",
   "version": "3.8.3"
  }
 },
 "nbformat": 4,
 "nbformat_minor": 4
}
