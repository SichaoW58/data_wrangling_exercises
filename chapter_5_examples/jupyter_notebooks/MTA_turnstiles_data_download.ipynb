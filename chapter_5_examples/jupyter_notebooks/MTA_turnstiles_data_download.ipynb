{
 "cells": [
  {
   "cell_type": "code",
   "execution_count": null,
   "metadata": {},
   "outputs": [],
   "source": [
    "# include the requests library in order to get data from the web\n",
    "import requests\n",
    "\n",
    "# the built-in `operating system` or `os` Python library will let us create\n",
    "# a new folder in which to store our downloaded data files\n",
    "import os\n",
    "\n",
    "# the built-in `time` Python library will let us `pause` our script for 2\n",
    "# seconds between data requests, so that we don't overload the MTA server with\n",
    "# too many requests in too short a time period\n",
    "import time"
   ]
  },
  {
   "cell_type": "code",
   "execution_count": null,
   "metadata": {},
   "outputs": [],
   "source": [
    "# # UNCOMMENT BELOW TO USE WITH GOOGLE COLAB\n",
    "# from google.colab import files"
   ]
  },
  {
   "cell_type": "code",
   "execution_count": null,
   "metadata": {},
   "outputs": [],
   "source": [
    "# # UNCOMMENT BELOW TO USE WITH GOOGLE COLAB\n",
    "# # Import PyDrive and associated libraries.\n",
    "# # This only needs to be done once per notebook.\n",
    "# # Documentation found here: https://colab.research.google.com/notebooks/io.ipynb#scrollTo=7taylj9wpsA2\n",
    "# from pydrive.auth import GoogleAuth\n",
    "# from pydrive.drive import GoogleDrive\n",
    "# from google.colab import auth\n",
    "# from oauth2client.client import GoogleCredentials\n",
    "\n",
    "# # Authenticate and create the PyDrive client.\n",
    "# # This only needs to be done once per notebook.\n",
    "# auth.authenticate_user()\n",
    "# gauth = GoogleAuth()\n",
    "# gauth.credentials = GoogleCredentials.get_application_default()\n",
    "# drive = GoogleDrive(gauth)"
   ]
  },
  {
   "cell_type": "code",
   "execution_count": null,
   "metadata": {},
   "outputs": [],
   "source": [
    "# # UNCOMMENT BELOW TO USE WITH GOOGLE COLAB\n",
    "# # Link to data file stored in Drive: https://drive.google.com/file/d/1zsOHTVUtrmU8xwIXv85romDM5azBTzLo/view?usp=sharing\n",
    "# file_id = '1zsOHTVUtrmU8xwIXv85romDM5azBTzLo' # notice where this string comes from in link above\n",
    "\n",
    "# imported_file = drive.CreateFile({'id': file_id}) # creating an accessible copy of the shared data file\n",
    "# print(imported_file['title'])  # it should print the title of desired file\n",
    "# imported_file.GetContentFile(imported_file['title']) # refer to it in this notebook by the same name as it has in Drive"
   ]
  },
  {
   "cell_type": "code",
   "execution_count": null,
   "metadata": {},
   "outputs": [],
   "source": [
    "# open the file where we stored our list of links\n",
    "mta_data_links = open(\"MTA_data_index.csv\",\"r\")\n",
    "\n",
    "# create a folder name so that we can keep the data organized\n",
    "folder_name = \"turnstile_data\"\n",
    "\n",
    "# since we're *not* using an API, the website owner will have no way to identify\n",
    "# us unless we provide some additional information.\n",
    "headers = {\n",
    "    'User-Agent': 'Mozilla/5.0 (X11; CrOS x86_64 13597.66.0) AppleWebKit/537.36 (KHTML, like Gecko) Chrome/88.0.4324.109 Safari/537.36',\n",
    "    'From': 'YOUR NAME HERE - youremailaddress@emailprovider.som'\n",
    "}\n",
    "\n",
    "\n",
    "# the built-in `readlines()` function reads one line of data from our file\n",
    "# at a time, and makes them into a list\n",
    "mta_links_list = mta_data_links.readlines()\n",
    "\n",
    "# as we did when working with PDFs, we want to confirm that no folder with\n",
    "# our chosen name exists before creating it; otherwise we'll get an error\n",
    "if os.path.isdir(folder_name) == False:\n",
    "    # create a new folder with that name\n",
    "    target_folder = os.mkdir(folder_name)\n",
    "\n",
    "# we only need four files, so we should only download that many\n",
    "for i in range(0,4):\n",
    "    # we use the built-in `strip()` recipe to remove the newline `\\n` character\n",
    "    # at the end of each row\n",
    "    data_url = (mta_links_list[i]).strip()\n",
    "\n",
    "    # we split the url on slashes, and take the item from the resulting list\n",
    "    # which is the `.txt` filename. This is the filename we'll use to save\n",
    "    # our local copy of the data\n",
    "    data_filename = data_url.split(\"/\")[-1]\n",
    "\n",
    "    # make our request for the data\n",
    "    turnstile_data_file = requests.get(data_url, headers=headers)\n",
    "\n",
    "    # open a new, writable file inside our target folder, using the appropriate\n",
    "    # filename\n",
    "    local_data_file = open(os.path.join(folder_name,data_filename), \"w\")\n",
    "\n",
    "    # save the contents of the downloaded file to that new file\n",
    "    local_data_file.write(turnstile_data_file.text)\n",
    "\n",
    "    # close the local file\n",
    "    local_data_file.close()\n",
    "\n",
    "    # \"sleep\" for two seconds before moving on to the next item in the loop\n",
    "    time.sleep(2)\n",
    "    \n",
    "    # # UNCOMMENT BELOW TO USE WITH GOOGLE COLAB\n",
    "    # files.download(os.path.join(folder_name,data_filename))"
   ]
  }
 ],
 "metadata": {
  "kernelspec": {
   "display_name": "Python 3",
   "language": "python",
   "name": "python3"
  },
  "language_info": {
   "codemirror_mode": {
    "name": "ipython",
    "version": 3
   },
   "file_extension": ".py",
   "mimetype": "text/x-python",
   "name": "python",
   "nbconvert_exporter": "python",
   "pygments_lexer": "ipython3",
   "version": "3.8.3"
  }
 },
 "nbformat": 4,
 "nbformat_minor": 4
}
