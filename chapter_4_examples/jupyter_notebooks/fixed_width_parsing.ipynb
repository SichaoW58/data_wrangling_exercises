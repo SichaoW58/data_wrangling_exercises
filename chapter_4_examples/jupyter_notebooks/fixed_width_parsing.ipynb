{
  "nbformat": 4,
  "nbformat_minor": 0,
  "metadata": {
    "kernelspec": {
      "display_name": "Python 3",
      "language": "python",
      "name": "python3"
    },
    "language_info": {
      "codemirror_mode": {
        "name": "ipython",
        "version": 3
      },
      "file_extension": ".py",
      "mimetype": "text/x-python",
      "name": "python",
      "nbconvert_exporter": "python",
      "pygments_lexer": "ipython3",
      "version": "3.8.3"
    },
    "colab": {
      "name": "fixed_width_parsing.ipynb",
      "provenance": [],
      "include_colab_link": true
    }
  },
  "cells": [
    {
      "cell_type": "markdown",
      "metadata": {
        "id": "view-in-github",
        "colab_type": "text"
      },
      "source": [
        "<a href=\"https://colab.research.google.com/github/susanemcg/data_wrangling_exercises/blob/master/chapter_4_examples/jupyter_notebooks/fixed_width_parsing.ipynb\" target=\"_parent\"><img src=\"https://colab.research.google.com/assets/colab-badge.svg\" alt=\"Open In Colab\"/></a>"
      ]
    },
    {
      "cell_type": "code",
      "metadata": {
        "id": "9089gNFOmiiB"
      },
      "source": [
        "# An example of reading data from a fixed-width file with Python.\n",
        "# The source file for this example comes from the NOAA, and can be accessed here:\n",
        "# https://www1.ncdc.noaa.gov/pub/data/ghcn/daily/ghcnd-stations.txt\n",
        "# The metadata for the file can be found here:\n",
        "# https://www1.ncdc.noaa.gov/pub/data/ghcn/daily/readme.txt"
      ],
      "execution_count": null,
      "outputs": []
    },
    {
      "cell_type": "code",
      "metadata": {
        "id": "xOzMutfLmiiR"
      },
      "source": [
        "# we'll start by importing the \"csv\" library because we want to convert\n",
        "# fixed-width file to a `.csv`\n",
        "import csv"
      ],
      "execution_count": null,
      "outputs": []
    },
    {
      "cell_type": "code",
      "metadata": {
        "id": "EhAaXFrZmqk7"
      },
      "source": [
        "# # UNCOMMENT BELOW TO USE WITH GOOGLE COLAB\n",
        "# # Import PyDrive and associated libraries.\n",
        "# # This only needs to be done once per notebook.\n",
        "# # Documentation found here: https://colab.research.google.com/notebooks/io.ipynb#scrollTo=7taylj9wpsA2\n",
        "# from pydrive.auth import GoogleAuth\n",
        "# from pydrive.drive import GoogleDrive\n",
        "# from google.colab import auth\n",
        "# from oauth2client.client import GoogleCredentials\n",
        "\n",
        "# # Authenticate and create the PyDrive client.\n",
        "# # This only needs to be done once per notebook.\n",
        "# auth.authenticate_user()\n",
        "# gauth = GoogleAuth()\n",
        "# gauth.credentials = GoogleCredentials.get_application_default()\n",
        "# drive = GoogleDrive(gauth)"
      ],
      "execution_count": null,
      "outputs": []
    },
    {
      "cell_type": "code",
      "metadata": {
        "collapsed": true,
        "id": "Z7yOkzklngcO"
      },
      "source": [
        "# # UNCOMMENT BELOW TO USE WITH GOOGLE COLAB\n",
        "# # Link to data file stored in Drive: https://drive.google.com/file/d/1G5VUyjXROf5bD9mriujmlBR3mV0yRM7h/view?usp=sharing\n",
        "# file_id = '1G5VUyjXROf5bD9mriujmlBR3mV0yRM7h' # notice where this string comes from in link above\n",
        "\n",
        "# imported_file = drive.CreateFile({'id': file_id}) # creating an accessible copy of the shared data file\n",
        "# print(imported_file['title'])  # it should print the title of desired file\n",
        "# imported_file.GetContentFile(imported_file['title']) # refer to it in this notebook by the same name as it has in Drive"
      ],
      "execution_count": null,
      "outputs": []
    },
    {
      "cell_type": "code",
      "metadata": {
        "id": "s-7QvrNMmiiS"
      },
      "source": [
        "filename = \"ghcnd-stations\"\n",
        "\n",
        "# reading from a basic text file doesn't require any special libraries\n",
        "# so we'll just open the file in read format (\"r\") as usual\n",
        "source_file = open(filename+\".txt\", \"r\")\n",
        "\n",
        "# the built-in \"readlines()\" method does just what you'd think:\n",
        "# it reads in a text file and converts it to a list of lines\n",
        "stations_list = source_file.readlines()\n",
        "\n",
        "# as usual, we'll create an output file to write to\n",
        "output_file = open(filename+\".csv\",\"w\")\n",
        "\n",
        "# and we'll use the `csv` library to create a \"writer\" that gives us handy\n",
        "# \"recipe\" functions for creating our new file in csv format\n",
        "output_writer = csv.writer(output_file)"
      ],
      "execution_count": null,
      "outputs": []
    },
    {
      "cell_type": "code",
      "metadata": {
        "id": "GJJEnNYCmmRb"
      },
      "source": [
        "\n",
        "# reading from a basic text file doesn't require any special libraries\n",
        "# so we'll just open the file in read format (\"r\") as usual\n",
        "source_file = open(filename+\".txt\", \"r\")\n",
        "\n",
        "# the built-in \"readlines()\" method does just what you'd think:\n",
        "# it reads in a text file and converts it to a list of lines\n",
        "stations_list = source_file.readlines()\n",
        "\n",
        "# as usual, we'll create an output file to write to\n",
        "output_file = open(filename+\".csv\",\"w\")\n",
        "\n",
        "# and we'll use the `csv` library to create a \"writer\" that gives us handy\n",
        "# \"recipe\" functions for creating our new file in csv format\n",
        "output_writer = csv.writer(output_file)"
      ],
      "execution_count": null,
      "outputs": []
    },
    {
      "cell_type": "code",
      "metadata": {
        "id": "t91ssMZemiiT"
      },
      "source": [
        "# since we don't have anything *within* the file that we can draw on for column\n",
        "# headers, we will just need to \"hard code\" these based on the information in\n",
        "# the `readme.txt` file\n",
        "# note that I've eliminated special characters and used underscores in place of\n",
        "# spaces. While not strictly necessary, this can minimize hassles when cleaning\n",
        "# and analyzing our data later on\n",
        "headers = [\"ID\",\"LATITUDE\",\"LONGITUDE\",\"ELEVATION\",\"STATE\",\"NAME\",\"GSN_FLAG\",\"HCNCRN_FLAG\",\"WMO_ID\"]\n",
        "\n",
        "# write our headers to the output file\n",
        "output_writer.writerow(headers)"
      ],
      "execution_count": null,
      "outputs": []
    },
    {
      "cell_type": "code",
      "metadata": {
        "id": "mO3r6EzCmiiV"
      },
      "source": [
        "for line in stations_list:\n",
        "\n",
        "    # let's print what's on each line just to see what it is\n",
        "    #print(line)\n",
        "\n",
        "    # create an empty list, to which we'll append each set of characters that\n",
        "    # makes up a given \"column\" of data, according to our `readme.txt` description\n",
        "    new_row = []\n",
        "\n",
        "    # Python actually views lines of text as just lists of characters, so we can\n",
        "    # just tell it to give us the characters that begin at one position (or index)\n",
        "    # and end before another\n",
        "    # note that, like the `range()` function, the first number is included,\n",
        "    # but the second number is not. Also Python starts counting lists\n",
        "    # of items at zero (often called \"zero-indexing\"). This means that for\n",
        "    # each entry, the first number will be *one less* than whatever the metadata\n",
        "    # says, but the right-hand number will be the same\n",
        "\n",
        "    # ID: positions 1-11\n",
        "    new_row.append(line[0:11])\n",
        "\n",
        "    # LATITUDE: positions 13-20\n",
        "    new_row.append(line[12:20])\n",
        "\n",
        "    # LONGITUDE: positions 22-30\n",
        "    new_row.append(line[21:30])\n",
        "\n",
        "    # ELEVATION: positions 32-37\n",
        "    new_row.append(line[31:37])\n",
        "\n",
        "    # STATE: positions 39-40\n",
        "    new_row.append(line[38:40])\n",
        "\n",
        "    # NAME: positions 42-71\n",
        "    new_row.append(line[41:71])\n",
        "\n",
        "    # GSN_FLAG: positions 73-75\n",
        "    new_row.append(line[72:75])\n",
        "\n",
        "    # HCNCRN_FLAG: positions 77-79\n",
        "    new_row.append(line[76:79])\n",
        "\n",
        "    # WMO_ID: positions 81-85\n",
        "    new_row.append(line[80:85])\n",
        "\n",
        "    # now all that's left is to use the\n",
        "    # `writerow` function to write new_row to our output file\n",
        "    output_writer.writerow(new_row)\n",
        "\n",
        "# just for good measure, let's close the `.csv` file we just wrote all that\n",
        "# data to...\n",
        "output_file.close()"
      ],
      "execution_count": null,
      "outputs": []
    },
    {
      "cell_type": "code",
      "metadata": {
        "id": "Hs2r0SZloRNO"
      },
      "source": [
        "# # UNCOMMENT BELOW TO USE WITH GOOGLE COLAB\n",
        "# from google.colab import files\n",
        "\n",
        "# files.download(filename+\".csv\")"
      ],
      "execution_count": null,
      "outputs": []
    }
  ]
}