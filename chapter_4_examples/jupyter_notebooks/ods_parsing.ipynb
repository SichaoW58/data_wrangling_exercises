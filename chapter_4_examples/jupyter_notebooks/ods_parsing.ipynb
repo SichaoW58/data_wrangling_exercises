{
  "nbformat": 4,
  "nbformat_minor": 0,
  "metadata": {
    "kernelspec": {
      "display_name": "Python 3",
      "language": "python",
      "name": "python3"
    },
    "language_info": {
      "codemirror_mode": {
        "name": "ipython",
        "version": 3
      },
      "file_extension": ".py",
      "mimetype": "text/x-python",
      "name": "python",
      "nbconvert_exporter": "python",
      "pygments_lexer": "ipython3",
      "version": "3.8.3"
    },
    "colab": {
      "name": "ods_parsing.ipynb",
      "provenance": []
    }
  },
  "cells": [
    {
      "cell_type": "code",
      "metadata": {
        "id": "S1EMWUO0qhyJ"
      },
      "source": [
        "# An example of reading data from an .ods file with Python, using the\n",
        "# \"pyexcel_ods\" library. First, you'll need to pip install the library:\n",
        "# https://pypi.org/project/pyexcel-ods/"
      ],
      "execution_count": null,
      "outputs": []
    },
    {
      "cell_type": "code",
      "metadata": {
        "id": "zV5zdySHqhyd"
      },
      "source": [
        "# specify the particular \"chapter\" you want to import the \"pyexcel_ods\" library\n",
        "# in this case, \"get_data\"\n",
        "from pyexcel_ods import get_data\n",
        "\n",
        "# we'll also import the \"csv\" library because we want to convert our workbook\n",
        "# to a `.csv`\n",
        "import csv"
      ],
      "execution_count": null,
      "outputs": []
    },
    {
      "cell_type": "code",
      "metadata": {
        "id": "OC3fE-Q3qlOO"
      },
      "source": [
        "# # UNCOMMENT BELOW TO USE WITH GOOGLE COLAB\n",
        "# # Import PyDrive and associated libraries.\n",
        "# # This only needs to be done once per notebook.\n",
        "# # Documentation found here: https://colab.research.google.com/notebooks/io.ipynb#scrollTo=7taylj9wpsA2\n",
        "# from pydrive.auth import GoogleAuth\n",
        "# from pydrive.drive import GoogleDrive\n",
        "# from google.colab import auth\n",
        "# from oauth2client.client import GoogleCredentials\n",
        "\n",
        "# # Authenticate and create the PyDrive client.\n",
        "# # This only needs to be done once per notebook.\n",
        "# auth.authenticate_user()\n",
        "# gauth = GoogleAuth()\n",
        "# gauth.credentials = GoogleCredentials.get_application_default()\n",
        "# drive = GoogleDrive(gauth)"
      ],
      "execution_count": null,
      "outputs": []
    },
    {
      "cell_type": "code",
      "metadata": {
        "id": "M9VOwqAxql6G"
      },
      "source": [
        "# # UNCOMMENT BELOW TO USE WITH GOOGLE COLAB\n",
        "# # Link to data file stored in Drive: https://drive.google.com/file/d/1UowE3NGllVJ0SAD2ijYuIVFt2c0pe4Hy/view?usp=sharing\n",
        "# file_id = '1UowE3NGllVJ0SAD2ijYuIVFt2c0pe4Hy' # notice where this string comes from in link above\n",
        "\n",
        "# imported_file = drive.CreateFile({'id': file_id}) # creating an accessible copy of the shared data file\n",
        "# print(imported_file['title'])  # it should print the title of desired file\n",
        "# imported_file.GetContentFile(imported_file['title']) # refer to it in this notebook by the same name as it has in Drive"
      ],
      "execution_count": null,
      "outputs": []
    },
    {
      "cell_type": "code",
      "metadata": {
        "id": "IbVifkneqhyg"
      },
      "source": [
        "# because this is a very specialized library, there are fewer functions, and\n",
        "# they do more in one step.  We'll start by passing  our source filename as an\n",
        "# ingredient to the pyexcel_ods library's get_data \"recipe\"\n",
        "# and store the result in a variable called `source_workbook`\n",
        "source_workbook = get_data(\"fredgraph.ods\")"
      ],
      "execution_count": null,
      "outputs": []
    },
    {
      "cell_type": "code",
      "metadata": {
        "id": "I6LWwmz-qhyh"
      },
      "source": [
        "# an .ods workbook can have multiple sheets\n",
        "# in this case, our library converts the `.ods` data into\n",
        "# Python's \"OrderedDict\" data type.\n",
        "# Rather than having to explicitly create an iterator as we did for the `.xlsx`\n",
        "# example, the `items()` method lets us access\n",
        "# each sheet's name and data as a \"key/value\" pair\n",
        "# where the entire sheet's data is stored in the \"value\" variable\n",
        "# even though our example workbook only includes one worksheet\n",
        "# we might have more in the future.\n",
        "# in this case, we've descriptively called the key `sheet_name` and the value\n",
        "# `sheet_data` to make clear what we're handling\n",
        "for sheet_name, sheet_data in source_workbook.items():\n",
        "\n",
        "    # let's print the value of `sheet_name` just to see what that value is\n",
        "    print(sheet_name)\n",
        "\n",
        "    # for each sheet in our workbook, we'll create a separate `.csv` file\n",
        "    # to do this, we \"open\" a new file, but make it *writable* (\"w\")\n",
        "    # instead of *readable* (\"r\"), as we have in previous examples\n",
        "    # for now, we'll name it \"ods_\"+sheet_name\n",
        "    output_file = open(\"ods_\"+sheet_name+\".csv\",\"w\")\n",
        "\n",
        "    # there is a \"writer\" recipe that lets us easily write `.csv`-formatted rows\n",
        "    # so, just as we did when \"reading\", now that we've opened our `output_file`\n",
        "    # we'll use this recipe to easily write rows, instead of reading them\n",
        "    output_writer = csv.writer(output_file)\n",
        "\n",
        "    # now, we need to loop through every row in our sheet\n",
        "    # `sheet_data` is already a list, so we can just loop through that list with\n",
        "    # a basic `for` loop\n",
        "    for row in sheet_data:\n",
        "\n",
        "        # because each row is already a list, we can just use the\n",
        "        # `writerow` recipe directly for our output file\n",
        "        output_writer.writerow(row)\n",
        "\n",
        "    # just for good measure, let's close the `.csv` file we just wrote all that\n",
        "    # data to...\n",
        "    output_file.close()"
      ],
      "execution_count": null,
      "outputs": []
    },
    {
      "cell_type": "code",
      "metadata": {
        "id": "mKrtVpCZqyfM"
      },
      "source": [
        "# # UNCOMMENT BELOW TO USE WITH GOOGLE COLAB\n",
        "# from google.colab import files\n",
        "\n",
        "# files.download(\"ods_\"+sheet_name+\".csv\")"
      ],
      "execution_count": null,
      "outputs": []
    }
  ]
}