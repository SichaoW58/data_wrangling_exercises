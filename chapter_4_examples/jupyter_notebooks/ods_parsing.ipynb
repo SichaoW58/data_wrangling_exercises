{
 "cells": [
  {
   "cell_type": "code",
   "execution_count": null,
   "metadata": {},
   "outputs": [],
   "source": [
    "# An example of reading data from an .ods file with Python, using the\n",
    "# \"pyexcel_ods\" library. First, you'll need to pip install the library:\n",
    "# https://pypi.org/project/pyexcel-ods/"
   ]
  },
  {
   "cell_type": "code",
   "execution_count": null,
   "metadata": {},
   "outputs": [],
   "source": [
    "# specify the particular \"chapter\" you want to import the \"pyexcel_ods\" library\n",
    "# in this case, \"get_data\"\n",
    "from pyexcel_ods import get_data\n",
    "\n",
    "# we'll also import the \"csv\" library because we want to convert our workbook\n",
    "# to a `.csv`\n",
    "import csv"
   ]
  },
  {
   "cell_type": "code",
   "execution_count": null,
   "metadata": {},
   "outputs": [],
   "source": [
    "# because this is a very specialized library, there are fewer functions, and\n",
    "# they do more in one step.  We'll start by passing  our source filename as an\n",
    "# ingredient to the pyexcel_ods library's get_data \"recipe\"\n",
    "# and store the result in a variable called `source_workbook`\n",
    "source_workbook = get_data(\"fredgraph.ods\")"
   ]
  },
  {
   "cell_type": "code",
   "execution_count": null,
   "metadata": {},
   "outputs": [],
   "source": [
    "# an .ods workbook can have multiple sheets\n",
    "# in this case, our library converts the `.ods` data into\n",
    "# Python's \"OrderedDict\" data type.\n",
    "# Rather than having to explicitly create an iterator as we did for the `.xlsx`\n",
    "# example, the `items()` method lets us access\n",
    "# each sheet's name and data as a \"key/value\" pair\n",
    "# where the entire sheet's data is stored in the \"value\" variable\n",
    "# even though our example workbook only includes one worksheet\n",
    "# we might have more in the future.\n",
    "# in this case, we've descriptively called the key `sheet_name` and the value\n",
    "# `sheet_data` to make clear what we're handling\n",
    "for sheet_name, sheet_data in source_workbook.items():\n",
    "\n",
    "    # let's print the value of `sheet_name` just to see what that value is\n",
    "    print(sheet_name)\n",
    "\n",
    "    # for each sheet in our workbook, we'll create a separate `.csv` file\n",
    "    # to do this, we \"open\" a new file, but make it *writable* (\"w\")\n",
    "    # instead of *readable* (\"r\"), as we have in previous examples\n",
    "    # for now, we'll name it \"ods_\"+sheet_name\n",
    "    output_file = open(\"ods_\"+sheet_name+\".csv\",\"w\")\n",
    "\n",
    "    # there is a \"writer\" recipe that lets us easily write `.csv`-formatted rows\n",
    "    # so, just as we did when \"reading\", now that we've opened our `output_file`\n",
    "    # we'll use this recipe to easily write rows, instead of reading them\n",
    "    output_writer = csv.writer(output_file)\n",
    "\n",
    "    # now, we need to loop through every row in our sheet\n",
    "    # `sheet_data` is already a list, so we can just loop through that list with\n",
    "    # a basic `for` loop\n",
    "    for row in sheet_data:\n",
    "\n",
    "        # because each row is already a list, we can just use the\n",
    "        # `writerow` recipe directly for our output file\n",
    "        output_writer.writerow(row)\n",
    "\n",
    "    # just for good measure, let's close the `.csv` file we just wrote all that\n",
    "    # data to...\n",
    "    output_file.close()"
   ]
  }
 ],
 "metadata": {
  "kernelspec": {
   "display_name": "Python 3",
   "language": "python",
   "name": "python3"
  },
  "language_info": {
   "codemirror_mode": {
    "name": "ipython",
    "version": 3
   },
   "file_extension": ".py",
   "mimetype": "text/x-python",
   "name": "python",
   "nbconvert_exporter": "python",
   "pygments_lexer": "ipython3",
   "version": "3.8.3"
  }
 },
 "nbformat": 4,
 "nbformat_minor": 4
}
