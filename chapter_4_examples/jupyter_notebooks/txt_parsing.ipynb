{
 "cells": [
  {
   "cell_type": "code",
   "execution_count": null,
   "metadata": {},
   "outputs": [],
   "source": [
    "# A simple example of reading data from a .txt file with Python, using the \"csv\"\n",
    "# library. The source data was downloaded from Jed Shugerman's research on\n",
    "# prosecutor politicians:\n",
    "# https://docs.google.com/spreadsheets/d/1E6Z-jZWbrKmit_4lG36oyQ658Ta6Mh25HCOBaz7YVrA/\n",
    "# Discovered through Jeremy Singer-Vine's (@jsvine) \"Data is Plural\" newsletter:\n",
    "# https://tinyletter.com/data-is-plural\n",
    "# The original .tsv file was renamed with a file extension of .txt"
   ]
  },
  {
   "cell_type": "code",
   "execution_count": null,
   "metadata": {},
   "outputs": [],
   "source": [
    "# import the \"csv\" library, which will give us lots of handy code recipes\n",
    "# for dealing with our data file\n",
    "import csv\n",
    "\n",
    "# open is a built-in function that takes two \"ingredients\":\n",
    "# 1. the data file name (in the same folder as your script or notebook)\n",
    "# 2. a \"mode\": \"r\" for \"read\" or \"w\" for \"write\"\n",
    "txt_source_file = open(\"ShugermanProsecutorPoliticians-SupremeCourtJustices.txt\",\"r\")"
   ]
  },
  {
   "cell_type": "code",
   "execution_count": null,
   "metadata": {},
   "outputs": [],
   "source": [
    "# pass our tsv_source_file as an ingredient to the the csv library's DictReader\n",
    "# \"recipe\" and store the result in a variable called `politicians_reader`\n",
    "# add the \"delimiter\" parameter and specify the tab character, \"\\t\"\n",
    "politicians_reader = csv.DictReader(txt_source_file, delimiter='\\t')"
   ]
  },
  {
   "cell_type": "code",
   "execution_count": null,
   "metadata": {},
   "outputs": [],
   "source": [
    "# the DictReader function has added useful information to our data,\n",
    "# like a label that shows us all the values in the first or \"header\" row\n",
    "print(politicians_reader.fieldnames)"
   ]
  },
  {
   "cell_type": "code",
   "execution_count": null,
   "metadata": {},
   "outputs": [],
   "source": [
    "# since even this smaller dataset is pretty large,\n",
    "# let's just print the first few rows to see what's in there\n",
    "for i in range(0,5):\n",
    "    print (next(politicians_reader))"
   ]
  }
 ],
 "metadata": {
  "kernelspec": {
   "display_name": "Python 3",
   "language": "python",
   "name": "python3"
  },
  "language_info": {
   "codemirror_mode": {
    "name": "ipython",
    "version": 3
   },
   "file_extension": ".py",
   "mimetype": "text/x-python",
   "name": "python",
   "nbconvert_exporter": "python",
   "pygments_lexer": "ipython3",
   "version": "3.8.3"
  }
 },
 "nbformat": 4,
 "nbformat_minor": 4
}
