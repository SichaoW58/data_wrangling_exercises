{
  "nbformat": 4,
  "nbformat_minor": 0,
  "metadata": {
    "kernelspec": {
      "display_name": "Python 3",
      "language": "python",
      "name": "python3"
    },
    "language_info": {
      "codemirror_mode": {
        "name": "ipython",
        "version": 3
      },
      "file_extension": ".py",
      "mimetype": "text/x-python",
      "name": "python",
      "nbconvert_exporter": "python",
      "pygments_lexer": "ipython3",
      "version": "3.8.3"
    },
    "colab": {
      "name": "txt_parsing.ipynb",
      "provenance": []
    }
  },
  "cells": [
    {
      "cell_type": "code",
      "metadata": {
        "id": "WP8AClqxwCjx"
      },
      "source": [
        "# A simple example of reading data from a .txt file with Python, using the \"csv\"\n",
        "# library. The source data was downloaded from Jed Shugerman's research on\n",
        "# prosecutor politicians:\n",
        "# https://docs.google.com/spreadsheets/d/1E6Z-jZWbrKmit_4lG36oyQ658Ta6Mh25HCOBaz7YVrA/\n",
        "# Discovered through Jeremy Singer-Vine's (@jsvine) \"Data is Plural\" newsletter:\n",
        "# https://tinyletter.com/data-is-plural\n",
        "# The original .tsv file was renamed with a file extension of .txt"
      ],
      "execution_count": null,
      "outputs": []
    },
    {
      "cell_type": "code",
      "metadata": {
        "id": "LUUye7OVwCj-"
      },
      "source": [
        "# import the \"csv\" library, which will give us lots of handy code recipes\n",
        "# for dealing with our data file\n",
        "import csv"
      ],
      "execution_count": null,
      "outputs": []
    },
    {
      "cell_type": "code",
      "metadata": {
        "id": "k-Vir6pFwFet"
      },
      "source": [
        "# # UNCOMMENT BELOW TO USE WITH GOOGLE COLAB\n",
        "# # Import PyDrive and associated libraries.\n",
        "# # This only needs to be done once per notebook.\n",
        "# # Documentation found here: https://colab.research.google.com/notebooks/io.ipynb#scrollTo=7taylj9wpsA2\n",
        "# from pydrive.auth import GoogleAuth\n",
        "# from pydrive.drive import GoogleDrive\n",
        "# from google.colab import auth\n",
        "# from oauth2client.client import GoogleCredentials\n",
        "\n",
        "# # Authenticate and create the PyDrive client.\n",
        "# # This only needs to be done once per notebook.\n",
        "# auth.authenticate_user()\n",
        "# gauth = GoogleAuth()\n",
        "# gauth.credentials = GoogleCredentials.get_application_default()\n",
        "# drive = GoogleDrive(gauth)"
      ],
      "execution_count": null,
      "outputs": []
    },
    {
      "cell_type": "code",
      "metadata": {
        "id": "2MHU9QFZwFhd"
      },
      "source": [
        "# # UNCOMMENT BELOW TO USE WITH GOOGLE COLAB\n",
        "# # Link to data file stored in Drive: https://drive.google.com/file/d/1SdcUy1bLaI5dJB6-Fx-hJB2Qxbt9P3si/view?usp=sharing\n",
        "# file_id = '1SdcUy1bLaI5dJB6-Fx-hJB2Qxbt9P3si' # notice where this string comes from in link above\n",
        "\n",
        "# imported_file = drive.CreateFile({'id': file_id}) # creating an accessible copy of the shared data file\n",
        "# print(imported_file['title'])  # it should print the title of desired file\n",
        "# imported_file.GetContentFile(imported_file['title']) # refer to it in this notebook by the same name as it has in Drive"
      ],
      "execution_count": null,
      "outputs": []
    },
    {
      "cell_type": "code",
      "metadata": {
        "id": "iiIeb4H8wE5D"
      },
      "source": [
        "\n",
        "# open is a built-in function that takes two \"ingredients\":\n",
        "# 1. the data file name (in the same folder as your script or notebook)\n",
        "# 2. a \"mode\": \"r\" for \"read\" or \"w\" for \"write\"\n",
        "txt_source_file = open(\"ShugermanProsecutorPoliticians-SupremeCourtJustices.txt\",\"r\")"
      ],
      "execution_count": null,
      "outputs": []
    },
    {
      "cell_type": "code",
      "metadata": {
        "id": "MjKUweHJwCkA"
      },
      "source": [
        "# pass our tsv_source_file as an ingredient to the the csv library's DictReader\n",
        "# \"recipe\" and store the result in a variable called `politicians_reader`\n",
        "# add the \"delimiter\" parameter and specify the tab character, \"\\t\"\n",
        "politicians_reader = csv.DictReader(txt_source_file, delimiter='\\t')"
      ],
      "execution_count": null,
      "outputs": []
    },
    {
      "cell_type": "code",
      "metadata": {
        "id": "5ZMYcSmzwCkB"
      },
      "source": [
        "# the DictReader function has added useful information to our data,\n",
        "# like a label that shows us all the values in the first or \"header\" row\n",
        "print(politicians_reader.fieldnames)"
      ],
      "execution_count": null,
      "outputs": []
    },
    {
      "cell_type": "code",
      "metadata": {
        "id": "AQTxjIMawCkC"
      },
      "source": [
        "# since even this smaller dataset is pretty large,\n",
        "# let's just print the first few rows to see what's in there\n",
        "for i in range(0,5):\n",
        "    print (next(politicians_reader))"
      ],
      "execution_count": null,
      "outputs": []
    }
  ]
}