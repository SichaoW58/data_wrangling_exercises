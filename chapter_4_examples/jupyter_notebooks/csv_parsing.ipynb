{
  "nbformat": 4,
  "nbformat_minor": 0,
  "metadata": {
    "kernelspec": {
      "display_name": "Python 3",
      "language": "python",
      "name": "python3"
    },
    "language_info": {
      "codemirror_mode": {
        "name": "ipython",
        "version": 3
      },
      "file_extension": ".py",
      "mimetype": "text/x-python",
      "name": "python",
      "nbconvert_exporter": "python",
      "pygments_lexer": "ipython3",
      "version": "3.8.3"
    },
    "colab": {
      "name": "csv_parsing.ipynb",
      "provenance": [],
      "include_colab_link": true
    }
  },
  "cells": [
    {
      "cell_type": "markdown",
      "metadata": {
        "id": "view-in-github",
        "colab_type": "text"
      },
      "source": [
        "<a href=\"https://colab.research.google.com/github/susanemcg/data_wrangling_exercises/blob/master/chapter_4_examples/jupyter_notebooks/csv_parsing.ipynb\" target=\"_parent\"><img src=\"https://colab.research.google.com/assets/colab-badge.svg\" alt=\"Open In Colab\"/></a>"
      ]
    },
    {
      "cell_type": "code",
      "metadata": {
        "id": "o30qrU5KglyE"
      },
      "source": [
        "# A simple example of reading data from a .csv file with Python\n",
        "# using the \"csv\" library.\n",
        "# The source data was sampled from the Citi Bike system data:\n",
        "# https://drive.google.com/file/d/17b461NhSjf_akFWvjgNXQfqgh9iFxCu_/view?usp=sharing\n",
        "# Which can be found here:\n",
        "# https://s3.amazonaws.com/tripdata/index.html"
      ],
      "execution_count": 1,
      "outputs": []
    },
    {
      "cell_type": "code",
      "metadata": {
        "id": "UMAmIi4_glyV"
      },
      "source": [
        "# import the \"csv\" library, which will give us lots of handy code recipes\n",
        "# for dealing with our data file\n",
        "import csv"
      ],
      "execution_count": 2,
      "outputs": []
    },
    {
      "cell_type": "code",
      "metadata": {
        "id": "uTdsfwRpg2aK"
      },
      "source": [
        "# # UNCOMMENT BELOW TO USE WITH GOOGLE COLAB\n",
        "# # Import PyDrive and associated libraries.\n",
        "# # This only needs to be done once per notebook.\n",
        "# # Documentation found here: https://colab.research.google.com/notebooks/io.ipynb#scrollTo=7taylj9wpsA2\n",
        "# from pydrive.auth import GoogleAuth\n",
        "# from pydrive.drive import GoogleDrive\n",
        "# from google.colab import auth\n",
        "# from oauth2client.client import GoogleCredentials\n",
        "\n",
        "# # Authenticate and create the PyDrive client.\n",
        "# # This only needs to be done once per notebook.\n",
        "# auth.authenticate_user()\n",
        "# gauth = GoogleAuth()\n",
        "# gauth.credentials = GoogleCredentials.get_application_default()\n",
        "# drive = GoogleDrive(gauth)"
      ],
      "execution_count": 3,
      "outputs": []
    },
    {
      "cell_type": "code",
      "metadata": {
        "id": "MD-AuOx2hOve",
        "outputId": "9afa6e79-2a42-4278-cd0f-77efa5ad9617",
        "colab": {
          "base_uri": "https://localhost:8080/"
        }
      },
      "source": [
        "# # UNCOMMENT BELOW TO USE WITH GOOGLE COLAB\n",
        "# # Link to data file stored in Drive: https://drive.google.com/file/d/17b461NhSjf_akFWvjgNXQfqgh9iFxCu_/view?usp=sharing\n",
        "# file_id = '17b461NhSjf_akFWvjgNXQfqgh9iFxCu_' # notice where this string comes from in link above\n",
        "\n",
        "# imported_file = drive.CreateFile({'id': file_id}) # creating an accessible copy of the shared data file\n",
        "# print(imported_file['title'])  # it should print the title of desired file\n",
        "# imported_file.GetContentFile(imported_file['title']) # refer to it in this notebook by the same name as it has in Drive"
      ],
      "execution_count": 5,
      "outputs": [
        {
          "output_type": "stream",
          "text": [
            "202009CitibikeTripdataExample.csv\n"
          ],
          "name": "stdout"
        }
      ]
    },
    {
      "cell_type": "code",
      "metadata": {
        "id": "EfVX8pVVgpg9"
      },
      "source": [
        "# open is a built-in function that takes two \"ingredients\":\n",
        "# 1. the data file name (in the same folder as your script or notebook)\n",
        "# 2. a \"mode\": \"r\" for \"read\" or \"w\" for \"write\"\n",
        "csv_source_file = open(\"202009CitibikeTripdataExample.csv\",\"r\")"
      ],
      "execution_count": 6,
      "outputs": []
    },
    {
      "cell_type": "code",
      "metadata": {
        "id": "cgbbza0Zgtw2"
      },
      "source": [
        "# pass our csv_source_file as an ingredient to the the csv library's DictReader\n",
        "# \"recipe\" and store the result in a variable called `citibike_reader`\n",
        "citibike_reader = csv.DictReader(csv_source_file)"
      ],
      "execution_count": 7,
      "outputs": []
    },
    {
      "cell_type": "code",
      "metadata": {
        "colab": {
          "base_uri": "https://localhost:8080/"
        },
        "id": "hjIzkoJUglyX",
        "outputId": "84d65847-d111-433f-c1e3-4988dbfec115"
      },
      "source": [
        "# the DictReader function has added useful information to our data,\n",
        "# like a label that shows us all the values in the first or \"header\" row\n",
        "print(citibike_reader.fieldnames)"
      ],
      "execution_count": 8,
      "outputs": [
        {
          "output_type": "stream",
          "text": [
            "['tripduration', 'starttime', 'stoptime', 'start station id', 'start station name', 'start station latitude', 'start station longitude', 'end station id', 'end station name', 'end station latitude', 'end station longitude', 'bikeid', 'usertype', 'birth year', 'gender']\n"
          ],
          "name": "stdout"
        }
      ]
    },
    {
      "cell_type": "code",
      "metadata": {
        "colab": {
          "base_uri": "https://localhost:8080/"
        },
        "id": "k0QdWOQ1glyY",
        "outputId": "1021a852-87e5-4aea-8a64-b3647299082e"
      },
      "source": [
        "# since even this smaller dataset is pretty large,\n",
        "# let's just print the first few rows to see what's in there\n",
        "for i in range(0,5):\n",
        "    print (next(citibike_reader))"
      ],
      "execution_count": 9,
      "outputs": [
        {
          "output_type": "stream",
          "text": [
            "OrderedDict([('tripduration', '4225'), ('starttime', '2020-09-01 00:00:01.0430'), ('stoptime', '2020-09-01 01:10:26.6350'), ('start station id', '3508'), ('start station name', 'St Nicholas Ave & Manhattan Ave'), ('start station latitude', '40.809725'), ('start station longitude', '-73.953149'), ('end station id', '116'), ('end station name', 'W 17 St & 8 Ave'), ('end station latitude', '40.74177603'), ('end station longitude', '-74.00149746'), ('bikeid', '44317'), ('usertype', 'Customer'), ('birth year', '1979'), ('gender', '1')])\n",
            "OrderedDict([('tripduration', '1868'), ('starttime', '2020-09-01 00:00:04.8320'), ('stoptime', '2020-09-01 00:31:13.7650'), ('start station id', '3621'), ('start station name', '27 Ave & 9 St'), ('start station latitude', '40.7739825'), ('start station longitude', '-73.9309134'), ('end station id', '3094'), ('end station name', 'Graham Ave & Withers St'), ('end station latitude', '40.7169811'), ('end station longitude', '-73.94485918'), ('bikeid', '37793'), ('usertype', 'Customer'), ('birth year', '1991'), ('gender', '1')])\n",
            "OrderedDict([('tripduration', '1097'), ('starttime', '2020-09-01 00:00:06.8990'), ('stoptime', '2020-09-01 00:18:24.2260'), ('start station id', '3492'), ('start station name', 'E 118 St & Park Ave'), ('start station latitude', '40.8005385'), ('start station longitude', '-73.9419949'), ('end station id', '3959'), ('end station name', 'Edgecombe Ave & W 145 St'), ('end station latitude', '40.823498'), ('end station longitude', '-73.94386'), ('bikeid', '41438'), ('usertype', 'Subscriber'), ('birth year', '1984'), ('gender', '1')])\n",
            "OrderedDict([('tripduration', '1473'), ('starttime', '2020-09-01 00:00:07.7440'), ('stoptime', '2020-09-01 00:24:41.1800'), ('start station id', '3946'), ('start station name', 'St Nicholas Ave & W 137 St'), ('start station latitude', '40.818477'), ('start station longitude', '-73.947568'), ('end station id', '4002'), ('end station name', 'W 144 St & Adam Clayton Powell Blvd'), ('end station latitude', '40.820877'), ('end station longitude', '-73.939249'), ('bikeid', '35860'), ('usertype', 'Customer'), ('birth year', '1990'), ('gender', '2')])\n",
            "OrderedDict([('tripduration', '1193'), ('starttime', '2020-09-01 00:00:12.2020'), ('stoptime', '2020-09-01 00:20:05.5470'), ('start station id', '3081'), ('start station name', 'Graham Ave & Grand St'), ('start station latitude', '40.711863'), ('start station longitude', '-73.944024'), ('end station id', '3048'), ('end station name', 'Putnam Ave & Nostrand Ave'), ('end station latitude', '40.68402'), ('end station longitude', '-73.94977'), ('bikeid', '26396'), ('usertype', 'Customer'), ('birth year', '1969'), ('gender', '0')])\n"
          ],
          "name": "stdout"
        }
      ]
    }
  ]
}