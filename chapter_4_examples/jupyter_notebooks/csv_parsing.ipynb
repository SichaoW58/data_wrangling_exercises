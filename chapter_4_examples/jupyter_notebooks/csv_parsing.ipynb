{
  "nbformat": 4,
  "nbformat_minor": 0,
  "metadata": {
    "kernelspec": {
      "display_name": "Python 3",
      "language": "python",
      "name": "python3"
    },
    "language_info": {
      "codemirror_mode": {
        "name": "ipython",
        "version": 3
      },
      "file_extension": ".py",
      "mimetype": "text/x-python",
      "name": "python",
      "nbconvert_exporter": "python",
      "pygments_lexer": "ipython3",
      "version": "3.8.3"
    },
    "colab": {
      "name": "csv_parsing.ipynb",
      "provenance": []
    }
  },
  "cells": [
    {
      "cell_type": "code",
      "metadata": {
        "id": "o30qrU5KglyE"
      },
      "source": [
        "# A simple example of reading data from a .csv file with Python\n",
        "# using the \"csv\" library.\n",
        "# The source data was sampled from the Citi Bike system data:\n",
        "# https://drive.google.com/file/d/17b461NhSjf_akFWvjgNXQfqgh9iFxCu_/view?usp=sharing\n",
        "# Which can be found here:\n",
        "# https://s3.amazonaws.com/tripdata/index.html"
      ],
      "execution_count": null,
      "outputs": []
    },
    {
      "cell_type": "code",
      "metadata": {
        "id": "UMAmIi4_glyV"
      },
      "source": [
        "# import the \"csv\" library, which will give us lots of handy code recipes\n",
        "# for dealing with our data file\n",
        "import csv"
      ],
      "execution_count": null,
      "outputs": []
    },
    {
      "cell_type": "code",
      "metadata": {
        "id": "uTdsfwRpg2aK"
      },
      "source": [
        ""
      ],
      "execution_count": null,
      "outputs": []
    },
    {
      "cell_type": "code",
      "metadata": {
        "id": "EfVX8pVVgpg9"
      },
      "source": [
        "# open is a built-in function that takes two \"ingredients\":\n",
        "# 1. the data file name (in the same folder as your script or notebook)\n",
        "# 2. a \"mode\": \"r\" for \"read\" or \"w\" for \"write\"\n",
        "csv_source_file = open(\"202009CitibikeTripdataExample.csv\",\"r\")"
      ],
      "execution_count": null,
      "outputs": []
    },
    {
      "cell_type": "code",
      "metadata": {
        "id": "cgbbza0Zgtw2"
      },
      "source": [
        "# pass our csv_source_file as an ingredient to the the csv library's DictReader\n",
        "# \"recipe\" and store the result in a variable called `citibike_reader`\n",
        "citibike_reader = csv.DictReader(csv_source_file)"
      ],
      "execution_count": null,
      "outputs": []
    },
    {
      "cell_type": "code",
      "metadata": {
        "id": "hjIzkoJUglyX"
      },
      "source": [
        "# the DictReader function has added useful information to our data,\n",
        "# like a label that shows us all the values in the first or \"header\" row\n",
        "print(citibike_reader.fieldnames)"
      ],
      "execution_count": null,
      "outputs": []
    },
    {
      "cell_type": "code",
      "metadata": {
        "id": "k0QdWOQ1glyY"
      },
      "source": [
        "# since even this smaller dataset is pretty large,\n",
        "# let's just print the first few rows to see what's in there\n",
        "for i in range(0,5):\n",
        "    print (next(citibike_reader))"
      ],
      "execution_count": null,
      "outputs": []
    }
  ]
}