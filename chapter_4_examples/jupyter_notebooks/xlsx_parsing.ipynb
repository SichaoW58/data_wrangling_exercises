{
 "cells": [
  {
   "cell_type": "code",
   "execution_count": null,
   "metadata": {},
   "outputs": [],
   "source": [
    "# An example of reading data from a .xlsx file with Python, using the \"openpyxl\"\n",
    "# library. First, you'll need pip install the openpyxl library:\n",
    "# https://pypi.org/project/openpyxl/\n",
    "# The source data can be composed and downloaded from:\n",
    "# https://fred.stlouisfed.org/series/U6RATE"
   ]
  },
  {
   "cell_type": "code",
   "execution_count": null,
   "metadata": {},
   "outputs": [],
   "source": [
    "# specify the particular \"chapter\" you want to import the \"openpyxl\" library\n",
    "# in this case, \"load_workbook\"\n",
    "from openpyxl import load_workbook\n",
    "\n",
    "# we'll also import the \"csv\" library because we want to convert our workbook\n",
    "# to a `.csv`\n",
    "import csv"
   ]
  },
  {
   "cell_type": "code",
   "execution_count": null,
   "metadata": {},
   "outputs": [],
   "source": [
    "# because this is a very specialized library, there are fewer functions, and\n",
    "# they do more in one step.  We'll start by passing  our source filename as an\n",
    "# ingredient to the openpyxl library's load_workbook \"recipe\", and we'll store\n",
    "# the result in a variable called `source_workbook`\n",
    "source_workbook = load_workbook(filename = 'fredgraph.xlsx')\n",
    "\n",
    "# an .xlsx workbook can have multiple sheets\n",
    "# like the \"DictReader\" function, load_workbook includes useful information,\n",
    "# like a list that shows us the names of all the data sheets in our workbook\n",
    "print(source_workbook.sheetnames)"
   ]
  },
  {
   "cell_type": "code",
   "execution_count": null,
   "metadata": {},
   "outputs": [],
   "source": [
    "# even though our example workbook only includes one worksheet\n",
    "# we might have more in the future. So we'll use the \"enumerate\" functions\n",
    "# to get both an iterator *and* the sheet name. This will help us\n",
    "# create one `.csv`file per worksheet\n",
    "for sheet_num, sheet_name in enumerate(source_workbook.sheetnames):\n",
    "    # we'll create a variable that points to the current worksheet by\n",
    "    # passing the current value of `sheet_name` to `source_workbook`\n",
    "    current_sheet = source_workbook[sheet_name]\n",
    "    # let's print the value of `sheet_name` just to see what that value is\n",
    "    print(sheet_name)\n",
    "\n",
    "    # for each sheet in our workbook, we'll create a separate `.csv` file\n",
    "    # to do this, we \"open\" a new file, but make it *writable* (\"w\")\n",
    "    # instead of *readable* (\"r\"), as we have in previous examples\n",
    "    # for now, we'll just name it \"xlsx_\"+sheet_name\n",
    "    output_file = open(\"xlsx_\"+sheet_name+\".csv\",\"w\")\n",
    "\n",
    "    # there is a \"writer\" recipe that lets us easily write `.csv`-formatted rows\n",
    "    # so, just as we did when \"reading\", now that we've opened our `output_file`\n",
    "    # we'll use this recipe to easily write rows, instead of reading them\n",
    "    output_writer = csv.writer(output_file)\n",
    "\n",
    "    # now, we need to loop through every row in our sheet\n",
    "    # the function `iter_rows()` is specific to the `openpyxl` library and\n",
    "    # converts the rows of `source_workbook` into a list that can be\n",
    "    # *iterated*, or looped, over\n",
    "    for row in current_sheet.iter_rows():\n",
    "        # the `openpyxl` library treats each cell as a `tuple`.\n",
    "        # if we try to just print the rows directly, we'll get sort of\n",
    "        # unhelpful cell locations, rather than the data values they contain.\n",
    "        # So we'll to make *another* loop to go through every cell in every row\n",
    "        # one at a time. We'll print both the cell location and the value here,\n",
    "        # though only the latter will be actually written to our new file\n",
    "\n",
    "        # we'll create an empty list where we'll put the actual values of the cells in each row\n",
    "        row_cells = []\n",
    "\n",
    "        # for every cell (or column) in each row....\n",
    "        for cell in row:\n",
    "\n",
    "            # let's print what's in here, just to see how the code sees it\n",
    "            print(cell, cell.value)\n",
    "\n",
    "            # just add the values to our list, so we get a nice clean `.csv`\n",
    "            # `append` is a method/recipe that we can use on lists\n",
    "            # to add things to the end\n",
    "            row_cells.append(cell.value)\n",
    "\n",
    "\n",
    "        # notice that the code below is left-aligned with the\n",
    "        #`for cell in row` code above\n",
    "        # this means that it will only be run *after* all the cells in a given\n",
    "        #row have been gone through, with its values appended to our list\n",
    "        # now we'll actually write these rows to the output file\n",
    "        output_writer.writerow(row_cells)"
   ]
  },
  {
   "cell_type": "code",
   "execution_count": null,
   "metadata": {},
   "outputs": [],
   "source": [
    "    # just for good measure, let's close the `.csv` file we just wrote all that\n",
    "    # data to...\n",
    "    output_file.close()"
   ]
  }
 ],
 "metadata": {
  "kernelspec": {
   "display_name": "Python 3",
   "language": "python",
   "name": "python3"
  },
  "language_info": {
   "codemirror_mode": {
    "name": "ipython",
    "version": 3
   },
   "file_extension": ".py",
   "mimetype": "text/x-python",
   "name": "python",
   "nbconvert_exporter": "python",
   "pygments_lexer": "ipython3",
   "version": "3.8.3"
  }
 },
 "nbformat": 4,
 "nbformat_minor": 4
}
