{
 "cells": [
  {
   "cell_type": "code",
   "execution_count": null,
   "metadata": {},
   "outputs": [],
   "source": [
    "# A basic example of reading data from a .pdf file with Python,\n",
    "# using pdf2image to convert it to images, and then using the\n",
    "# openCV and tesseract libraries to extract the text\n",
    "# The source data was downloaded from:\n",
    "# https://files.stlouisfed.org/files/htdocs/publications/page1-econ/2020/12/01/unemployment-insurance-a-tried-and-true-safety-net_SE.pdf"
   ]
  },
  {
   "cell_type": "code",
   "execution_count": null,
   "metadata": {},
   "outputs": [],
   "source": [
    "# the built-in `operating system` or `os` Python library will let us create\n",
    "# a new folder in which to store our converted images and output text\n",
    "import os\n",
    "\n",
    "# we'll import the `convert_from_path` \"chapter\" of the `pdf2image` library\n",
    "from pdf2image import convert_from_path\n",
    "\n",
    "# the built-in `glob`library offers a handy way to loop through all the files\n",
    "# of a certain type in a folder, without needing to specify their individual\n",
    "# file names\n",
    "import glob\n",
    "# `cv2` is the actual library name for `openCV`\n",
    "import cv2\n",
    "\n",
    "# and of course, we need our Python library for interfacing with the tesseract\n",
    "# OCR process\n",
    "import pytesseract"
   ]
  },
  {
   "cell_type": "code",
   "execution_count": null,
   "metadata": {},
   "outputs": [],
   "source": [
    "# we'll use the pdf name to name our generated images and text files, too\n",
    "pdf_name = \"SafetyNet\"\n",
    "\n",
    "# our source pdf is just in the same folder as our Python script\n",
    "pdf_source_file = pdf_name+\".pdf\"\n",
    "\n",
    "# if a folder with the same name as the pdf does not already exist\n",
    "if os.path.isdir(pdf_name) == False:\n",
    "    # create a new folder with that name\n",
    "    target_folder = os.mkdir(pdf_name)"
   ]
  },
  {
   "cell_type": "code",
   "execution_count": null,
   "metadata": {},
   "outputs": [],
   "source": [
    "# store all the pages of the PDF in a variable, by providing the path to then\n",
    "# source file and the desired dots per inch (DPI) resolution of the output images\n",
    "# while a lower DPI will be much faster, the poorer quality images my yield\n",
    "# significantly less accurate OCR results. 300 DPI is a standard \"print\" quality\n",
    "pages = convert_from_path(pdf_source_file, 300)"
   ]
  },
  {
   "cell_type": "code",
   "execution_count": null,
   "metadata": {},
   "outputs": [],
   "source": [
    "# loop through all the converted pages, enumerating them so that the page\n",
    "# number can be used to label the resulting images\n",
    "for page_num, page in enumerate(pages):\n",
    "\n",
    "    # use the `.join` function to save the new files into the target_folder\n",
    "    # we created above\n",
    "    # we have to use the `str()` function to make the page number into a string\n",
    "    # for use in the filename\n",
    "    filename = os.path.join(pdf_name,\"p\"+str(page_num)+\".png\")\n",
    "\n",
    "    # save the image of the page in system\n",
    "    page.save(filename, 'PNG')"
   ]
  },
  {
   "cell_type": "code",
   "execution_count": null,
   "metadata": {},
   "outputs": [],
   "source": [
    "# next, go through the images in the folder and extract the text from each one\n",
    "# note that '*.png' means \"any file ending in .png\"\n",
    "# the `glob()` function creates a list of all the filenames in the specified\n",
    "# folder, which in this case is the same as `pdf_name` - the folder where our\n",
    "# images are stored\n",
    "for img_file in glob.glob(os.path.join(pdf_name, '*.png')):\n",
    "\n",
    "    # we need the image's file name, but `img_file` starts with the folder\n",
    "    # name (e.g. \"SafteyNet/\" and ends in `.png`. So we'll replace the\n",
    "    # forward slash with a period\n",
    "    temp_name = img_file.replace(\"/\",\".\")\n",
    "\n",
    "    # `temp_name` is now something like, \"SafteyNet.p1.png\"\n",
    "    # if we `split()` that on the period, we'll get a list like:\n",
    "    # [\"SafetyNet\",\"p1\",\"png\"]\n",
    "    # we want the second item, but since lists start counting at 0, we need to\n",
    "    # target the item at position 1\n",
    "    text_filename = temp_name.split(\".\")[1]\n",
    "\n",
    "    # now! create a new, writable file, also in our target folder, that\n",
    "    # has the same name as the image, but is a `.txt` file\n",
    "    output_file = open(os.path.join(pdf_name,text_filename+\".txt\"), \"w\")\n",
    "\n",
    "    # use the `cv2` library to interpret our image\n",
    "    img = cv2.imread(img_file)\n",
    "\n",
    "    # create a new variable to hold the results of using pytesseract's\n",
    "    # `image_to_string()` function, which will do just that\n",
    "    converted_text = pytesseract.image_to_string(img)\n",
    "\n",
    "    # write our extracted text to our output file\n",
    "    output_file.write(converted_text)\n",
    "\n",
    "    # close the output file\n",
    "    output_file.close()"
   ]
  }
 ],
 "metadata": {
  "kernelspec": {
   "display_name": "Python 3",
   "language": "python",
   "name": "python3"
  },
  "language_info": {
   "codemirror_mode": {
    "name": "ipython",
    "version": 3
   },
   "file_extension": ".py",
   "mimetype": "text/x-python",
   "name": "python",
   "nbconvert_exporter": "python",
   "pygments_lexer": "ipython3",
   "version": "3.8.3"
  }
 },
 "nbformat": 4,
 "nbformat_minor": 4
}
