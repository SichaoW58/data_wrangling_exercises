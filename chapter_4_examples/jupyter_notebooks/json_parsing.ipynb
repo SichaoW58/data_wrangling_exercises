{
  "nbformat": 4,
  "nbformat_minor": 0,
  "metadata": {
    "kernelspec": {
      "display_name": "Python 3",
      "language": "python",
      "name": "python3"
    },
    "language_info": {
      "codemirror_mode": {
        "name": "ipython",
        "version": 3
      },
      "file_extension": ".py",
      "mimetype": "text/x-python",
      "name": "python",
      "nbconvert_exporter": "python",
      "pygments_lexer": "ipython3",
      "version": "3.8.3"
    },
    "colab": {
      "name": "json_parsing.ipynb",
      "provenance": []
    }
  },
  "cells": [
    {
      "cell_type": "code",
      "metadata": {
        "id": "hPQTHSigpCzA"
      },
      "source": [
        "# A simple example of reading data from a .json file with Python,\n",
        "# using the built-in \"json\" library. The data used here is an instance of\n",
        "# https://api.stlouisfed.org/fred/series/observations?series_id=U6RATE&file_type=json&api_key=YOUR_API_KEY_HERE"
      ],
      "execution_count": null,
      "outputs": []
    },
    {
      "cell_type": "code",
      "metadata": {
        "id": "BPZHEAnLpCzR"
      },
      "source": [
        "# import the json library\n",
        "import json\n",
        "\n",
        "# we'll also import the \"csv\" library because we want to write our\n",
        "# data out as a `.csv`\n",
        "import csv"
      ],
      "execution_count": null,
      "outputs": []
    },
    {
      "cell_type": "code",
      "metadata": {
        "id": "UMFO5mGopFWn"
      },
      "source": [
        "# # UNCOMMENT BELOW TO USE WITH GOOGLE COLAB\n",
        "# # Import PyDrive and associated libraries.\n",
        "# # This only needs to be done once per notebook.\n",
        "# # Documentation found here: https://colab.research.google.com/notebooks/io.ipynb#scrollTo=7taylj9wpsA2\n",
        "# from pydrive.auth import GoogleAuth\n",
        "# from pydrive.drive import GoogleDrive\n",
        "# from google.colab import auth\n",
        "# from oauth2client.client import GoogleCredentials\n",
        "\n",
        "# # Authenticate and create the PyDrive client.\n",
        "# # This only needs to be done once per notebook.\n",
        "# auth.authenticate_user()\n",
        "# gauth = GoogleAuth()\n",
        "# gauth.credentials = GoogleCredentials.get_application_default()\n",
        "# drive = GoogleDrive(gauth)"
      ],
      "execution_count": null,
      "outputs": []
    },
    {
      "cell_type": "code",
      "metadata": {
        "id": "1kKhbauBpFas"
      },
      "source": [
        "# # UNCOMMENT BELOW TO USE WITH GOOGLE COLAB\n",
        "# # Link to data file stored in Drive: https://drive.google.com/file/d/1m_erMvGF9zQEwFp3RZKGshtpPWYwdkh-/view?usp=sharing\n",
        "# file_id = '1m_erMvGF9zQEwFp3RZKGshtpPWYwdkh-' # notice where this string comes from in link above\n",
        "\n",
        "# imported_file = drive.CreateFile({'id': file_id}) # creating an accessible copy of the shared data file\n",
        "# print(imported_file['title'])  # it should print the title of desired file\n",
        "# imported_file.GetContentFile(imported_file['title']) # refer to it in this notebook by the same name as it has in Drive"
      ],
      "execution_count": null,
      "outputs": []
    },
    {
      "cell_type": "code",
      "metadata": {
        "id": "uLPLk_KBpCzT"
      },
      "source": [
        "# in this instance, there's nothing within the data file that really identifies\n",
        "# what the data is, so we'll make the filename a separate variable so that\n",
        "# we can use it to both load our source data and label our output file\n",
        "filename = \"U6_FRED_data\""
      ],
      "execution_count": null,
      "outputs": []
    },
    {
      "cell_type": "code",
      "metadata": {
        "id": "ExvrW2NApCzU"
      },
      "source": [
        "# open is a built-in function that takes two \"ingredients\":\n",
        "# 1. a file name (in the same folder as the Python script or notebook)\n",
        "# 2. a \"mode\": \"r\" for \"read\" or \"w\" for \"write\"\n",
        "json_source_file = open(filename+\".json\",\"r\")\n",
        "\n",
        "# pass our json_source_file as an ingredient to the json library's \"load\" method\n",
        "# and store the result in a variable called `json_data`\n",
        "json_data = json.load(json_source_file)"
      ],
      "execution_count": null,
      "outputs": []
    },
    {
      "cell_type": "code",
      "metadata": {
        "id": "oZd1fmI3pCzW"
      },
      "source": [
        "# create our output file, naming it \"json_\"+filename\n",
        "output_file = open(\"json_\"+filename+\".csv\",\"w\")\n",
        "\n",
        "# there is a \"writer\" recipe that lets us easily write `.csv`-formatted rows\n",
        "# so, just as we did when \"reading\", now that we've opened our `output_file`\n",
        "# we'll use this recipe to easily write rows, instead of reading them\n",
        "output_writer = csv.writer(output_file)"
      ],
      "execution_count": null,
      "outputs": []
    },
    {
      "cell_type": "code",
      "metadata": {
        "id": "wCICAW19pCzX"
      },
      "source": [
        "# because the json library interprets every object as a Python dictionary (dict).\n",
        "# we can use the `.keys()`, `.values()`, and `.items()` methods to access its\n",
        "# contents. In this case, however, each of these methods returns\n",
        "# a `dictionary view object`\n",
        "# (see https://docs.python.org/3/library/stdtypes.html#dict-views)\n",
        "# this means that while we can use what is returned by the `.keys()` method as\n",
        "# our column headers, we'll need to tell Python to convert it to a regular list\n",
        "# since all of our elements are identical, however, we can just grab the\n",
        "# first one (at position \"0\"), and use its keys as the column headers\n",
        "output_writer.writerow(list(json_data[\"observations\"][0].keys()))"
      ],
      "execution_count": null,
      "outputs": []
    },
    {
      "cell_type": "code",
      "metadata": {
        "id": "e-toEMczpCzZ"
      },
      "source": [
        "# in most cases, the simplest way to find the name (or \"key\") of the main JSON\n",
        "# object in our document is just to look at it. While XML data will\n",
        "# often be rendered readably in a web browser, however, JSON data is usually\n",
        "# shown as a single line. To get a better sense of its structure, try pasting\n",
        "# it into: https://jsonlint.com/ This lets us see that our target data\n",
        "# is a list whose key is \"observations\""
      ],
      "execution_count": null,
      "outputs": []
    },
    {
      "cell_type": "code",
      "metadata": {
        "id": "WLK4_ki1pCza"
      },
      "source": [
        "for obj in json_data[\"observations\"]:\n",
        "\n",
        "    # because of the way that the `json` library works, if we try to just write\n",
        "    # the rows directly, we'll get the values labeled with `dict`, rather than\n",
        "    # the data values themselves. So we need to make *another* loop, to go\n",
        "    # through every value in every json object one at a time. We'll print both\n",
        "    # the key and the value here, though only the latter will be actually\n",
        "    # written to our new file\n",
        "\n",
        "    # we'll create an empty list where we'll put the actual values of each object\n",
        "    obj_values = []\n",
        "\n",
        "    # for every \"key\" (or column) in each object....\n",
        "    for key, value in obj.items():\n",
        "\n",
        "        # let's print what's in here, just to see how the code sees it\n",
        "        print(key,value)\n",
        "\n",
        "        # just add the values to our list, so we get a nice clean `.csv`\n",
        "        # `append` is a method/recipe that we can use to add things to the end\n",
        "        # of a list\n",
        "        obj_values.append(value)\n",
        "\n",
        "\n",
        "    # notice that the code below is left-aligned with the\n",
        "    # `for key, value in obj.items()` code above\n",
        "    # this means that it will only be run *after* all the keys in a given\n",
        "    # json object have been gone through, with its values appended to our list\n",
        "\n",
        "    # now we'll actually write these rows to the output file\n",
        "    output_writer.writerow(obj_values)"
      ],
      "execution_count": null,
      "outputs": []
    },
    {
      "cell_type": "code",
      "metadata": {
        "id": "4hWTpLmwpCzc"
      },
      "source": [
        "# just for good measure, let's close the `.csv` file we just wrote all that\n",
        "# data to...\n",
        "output_file.close()"
      ],
      "execution_count": null,
      "outputs": []
    },
    {
      "cell_type": "code",
      "metadata": {
        "id": "NA4Pbzz4qQXZ"
      },
      "source": [
        "# # UNCOMMENT BELOW TO USE WITH GOOGLE COLAB\n",
        "# from google.colab import files\n",
        "\n",
        "# files.download(\"json_\"+filename+\".csv\")"
      ],
      "execution_count": null,
      "outputs": []
    }
  ]
}