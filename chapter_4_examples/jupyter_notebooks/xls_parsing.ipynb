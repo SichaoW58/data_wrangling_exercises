{
  "nbformat": 4,
  "nbformat_minor": 0,
  "metadata": {
    "kernelspec": {
      "display_name": "Python 3",
      "language": "python",
      "name": "python3"
    },
    "language_info": {
      "codemirror_mode": {
        "name": "ipython",
        "version": 3
      },
      "file_extension": ".py",
      "mimetype": "text/x-python",
      "name": "python",
      "nbconvert_exporter": "python",
      "pygments_lexer": "ipython3",
      "version": "3.8.3"
    },
    "colab": {
      "name": "xls_parsing.ipynb",
      "provenance": []
    }
  },
  "cells": [
    {
      "cell_type": "code",
      "metadata": {
        "id": "vAxYd5wYw0mT"
      },
      "source": [
        "# A simple example of reading data from a .xls file with Python\n",
        "# using the \"xrld\" library. First, pip install the xlrd library:\n",
        "# https://pypi.org/project/xlrd/2.0.1/"
      ],
      "execution_count": null,
      "outputs": []
    },
    {
      "cell_type": "code",
      "metadata": {
        "id": "mdu3GjFFw0me"
      },
      "source": [
        "# then, import the \"xlrd\" library\n",
        "import xlrd\n",
        "\n",
        "# we'll also import the \"csv\" library because we want to convert our workbook\n",
        "# to a `.csv`\n",
        "import csv"
      ],
      "execution_count": null,
      "outputs": []
    },
    {
      "cell_type": "code",
      "metadata": {
        "id": "FtaqxwjBw2Wv"
      },
      "source": [
        "# # UNCOMMENT BELOW TO USE WITH GOOGLE COLAB\n",
        "# # Import PyDrive and associated libraries.\n",
        "# # This only needs to be done once per notebook.\n",
        "# # Documentation found here: https://colab.research.google.com/notebooks/io.ipynb#scrollTo=7taylj9wpsA2\n",
        "# from pydrive.auth import GoogleAuth\n",
        "# from pydrive.drive import GoogleDrive\n",
        "# from google.colab import auth\n",
        "# from oauth2client.client import GoogleCredentials\n",
        "\n",
        "# # Authenticate and create the PyDrive client.\n",
        "# # This only needs to be done once per notebook.\n",
        "# auth.authenticate_user()\n",
        "# gauth = GoogleAuth()\n",
        "# gauth.credentials = GoogleCredentials.get_application_default()\n",
        "# drive = GoogleDrive(gauth)"
      ],
      "execution_count": null,
      "outputs": []
    },
    {
      "cell_type": "code",
      "metadata": {
        "id": "8dRH4wKCw2c9"
      },
      "source": [
        "# # UNCOMMENT BELOW TO USE WITH GOOGLE COLAB\n",
        "# # Link to data file stored in Drive: https://drive.google.com/file/d/1SOH4YJ2x1RWpyzcQUTNz8XxHgL2JdNoz/view?usp=sharing\n",
        "# file_id = '1SOH4YJ2x1RWpyzcQUTNz8XxHgL2JdNoz' # notice where this string comes from in link above\n",
        "\n",
        "# imported_file = drive.CreateFile({'id': file_id}) # creating an accessible copy of the shared data file\n",
        "# print(imported_file['title'])  # it should print the title of desired file\n",
        "# imported_file.GetContentFile(imported_file['title']) # refer to it in this notebook by the same name as it has in Drive"
      ],
      "execution_count": null,
      "outputs": []
    },
    {
      "cell_type": "code",
      "metadata": {
        "id": "4W8sS8MTw0mf"
      },
      "source": [
        "# because this is a very specialized library, there are fewer functions, and\n",
        "# they do more in one step.  We'll start by passing  our source filename as an\n",
        "# ingredient to the xlrd library's open_workbook \"recipe\" and store the result\n",
        "# in a variable called `source_workbook`. Notice that this structure is similar\n",
        "# to the one we use when working with the `csv` library\n",
        "source_workbook = xlrd.open_workbook(\"fredgraph.xls\")\n",
        "\n",
        "# an .xls workbook can have multiple sheets\n",
        "# like the \"DictReader\" function, open_workbook generates useful information,\n",
        "# like a list that shows us the names of all the data sheets in our workbook\n",
        "print(source_workbook.sheet_names())"
      ],
      "execution_count": null,
      "outputs": []
    },
    {
      "cell_type": "code",
      "metadata": {
        "id": "2UPP1KU2w0mh"
      },
      "source": [
        "# even though our example workbook only includes one worksheet, the\n",
        "# `open_workbook` recipe has generated a list of sheet names that we can loop\n",
        "# through. In the future, we could use this to create one  `.csv`file per sheet\n",
        "for sheet_name in source_workbook.sheet_names():\n",
        "\n",
        "    # we'll create a variable that points to the current worksheet by\n",
        "    # passing the current value of `sheet_name` to the `sheet_by_name` recipe\n",
        "    current_sheet = source_workbook.sheet_by_name(sheet_name)\n",
        "\n",
        "    # let's print the value of `sheet_name` just to see what that value is\n",
        "    print(sheet_name)\n",
        "\n",
        "    # for each sheet in our workbook, we'll create a separate `.csv` file\n",
        "    # to do this, we \"open\" a new file, but make it *writable* (\"w\")\n",
        "    # instead of *readable* (\"r\"), as we have in previous examples\n",
        "    # for now, we'll just name it \"xlsx_\"+sheet_name\n",
        "    output_file = open(\"xls_\"+sheet_name+\".csv\",\"w\")\n",
        "\n",
        "    # there is a \"writer\" recipe that lets us easily write `.csv`-formatted rows\n",
        "    # so, just as we did when \"reading\", now that we've opened our `output_file`\n",
        "    # we'll use this recipe to easily write rows, instead of reading them\n",
        "    output_writer = csv.writer(output_file)\n",
        "\n",
        "    # now, we need to loop through every row in our sheet\n",
        "    # the function `iter_rows()` is specific to the `openpyxl` library and\n",
        "    # converts the rows of `source_workbook` into a list that can be looped over.\n",
        "    # Here's where you'll find most of the data accessing documentation:\n",
        "    # https://xlrd.readthedocs.io/en/latest/api.html#xlrd-sheet\n",
        "    for row_num, row in enumerate(current_sheet.get_rows()):\n",
        "\n",
        "        # although each row is already a list, we want the *values* so we can\n",
        "        # use the `writerow` recipe directly for our output file\n",
        "        # a note that we'll find some serious funkiness in the \"dates\" this\n",
        "        # produces. More on that here:\n",
        "        # https://xlrd.readthedocs.io/en/latest/dates.html\n",
        "        # And how to fix up the dates here (we'll do this later):\n",
        "        # https://xlrd.readthedocs.io/en/latest/api.html#module-xlrd.xldate\n",
        "        output_writer.writerow(current_sheet.row_values(row_num))\n",
        "\n",
        "    # just for good measure, let's close the `.csv` file we just wrote all that\n",
        "    # data to...\n",
        "    output_file.close()"
      ],
      "execution_count": null,
      "outputs": []
    },
    {
      "cell_type": "code",
      "metadata": {
        "id": "KByD3KUmxBv5"
      },
      "source": [
        "# # UNCOMMENT BELOW TO USE WITH GOOGLE COLAB\n",
        "# from google.colab import files\n",
        "\n",
        "# files.download(\"xls_\"+sheet_name+\".csv\")"
      ],
      "execution_count": null,
      "outputs": []
    }
  ]
}